{
 "cells": [
  {
   "cell_type": "markdown",
   "metadata": {},
   "source": [
    "# RAG用のファイルデータをベクトルストアに保存するためのnotebook"
   ]
  },
  {
   "cell_type": "code",
   "execution_count": null,
   "metadata": {},
   "outputs": [],
   "source": [
    "from opensearchpy import OpenSearch # pip install opensearch-py\n",
    "import boto3\n",
    "import json\n",
    "import os\n",
    "from tqdm import tqdm\n",
    "from dotenv import load_dotenv\n",
    "from langchain_community.document_loaders import PyPDFLoader\n",
    "from langchain.text_splitter import RecursiveCharacterTextSplitter"
   ]
  },
  {
   "cell_type": "markdown",
   "metadata": {},
   "source": [
    "## bedrock接続テスト"
   ]
  },
  {
   "cell_type": "code",
   "execution_count": 2,
   "metadata": {},
   "outputs": [
    {
     "name": "stdout",
     "output_type": "stream",
     "text": [
      "256\n",
      "[-0.04554624482989311, 0.08097110688686371, 0.04225679486989975, 0.032261922955513, 0.13866302371025085, -0.04225679486989975, -0.0268216785043478, 0.023785261437296867, 0.0662950947880745, -0.07692255079746246, -0.0662950947880745, 0.03491878882050514, -0.05237818509340286, -0.05440245941281319, -0.1791485697031021, -0.055920667946338654, -0.01771242916584015, 0.025050435215234756, 0.12348093092441559, 0.04377500340342522, 0.1336023211479187, 0.018598049879074097, -0.04073858633637428, 0.008729697205126286, -0.051113009452819824, -0.09412890672683716, 0.016004445031285286, -0.07945289462804794, 0.05237818509340286, -0.04428107291460037, 0.0049658059142529964, 0.011955889873206615, -0.09109248965978622, -0.041750725358724594, 0.09412890672683716, 0.12348093092441559, 0.007970592938363552, 0.02125491574406624, 0.022014020010828972, 0.02745426446199417, -0.04326893389225006, 0.046305350959300995, -0.0037955206353217363, 0.09210462868213654, 0.06680116057395935, -0.05516156554222107, 0.012145665474236012, 0.026695160195231438, 0.14979654550552368, 0.020242776721715927, 0.05010087043046951, 0.034665755927562714, -0.06578902155160904, 0.10374423116445541, -0.028845956549048424, 0.053390320390462875, 0.03871430829167366, -0.013347580097615719, -0.0009646947728469968, -0.06983757764101028, -0.050859976559877396, 0.07641647756099701, -0.04681142047047615, 0.07894682884216309, 0.021128397434949875, -0.013221063651144505, -0.06528295576572418, -0.07489827275276184, -0.16801504790782928, -0.008792956359684467, -0.056679774075746536, -0.04605231434106827, 0.06680116057395935, 0.055920667946338654, -0.09716532379388809, -0.04478714242577553, 0.16295434534549713, 0.03264147788286209, -0.06224653497338295, -0.022014020010828972, 0.0030522311571985483, 0.007496153004467487, -0.013727132230997086, -0.021507950499653816, 0.030743716284632683, -0.10323815792798996, 0.029478542506694794, 0.04377500340342522, 0.01935715414583683, -0.1508086770772934, 0.056679774075746536, -0.000683984428178519, -0.0708497166633606, -0.08248931169509888, 0.055920667946338654, -0.07894682884216309, -0.055920667946338654, -0.014739271253347397, -0.10576850920915604, -0.0445341058075428, -0.011196785606443882, 0.06098136305809021, -0.003937852568924427, -0.01809198036789894, 0.032261922955513, 0.04225679486989975, 0.09311676770448685, 0.05490852892398834, 0.05845101550221443, -0.07236792147159576, 0.02580953948199749, 0.08704394102096558, -0.06401778012514114, -0.10070781409740448, 0.039220377802848816, 0.038208238780498505, 0.13663874566555023, -0.0012414514785632491, -0.06933151185512543, -0.07135578244924545, -0.07236792147159576, -0.13663874566555023, -0.09109248965978622, 0.10526243597269058, -0.023152675479650497, -0.10880491882562637, 0.009678577072918415, -0.08400752395391464, -0.07388613373041153, 0.047570522874593735, -0.01973670721054077, -0.04023251682519913, 0.05743887647986412, -0.06300564110279083, -0.05440245941281319, 0.09918960183858871, -0.007685929071158171, 0.055667635053396225, -0.012904769740998745, -0.04934176802635193, -0.04073858633637428, 0.012968028895556927, -0.03643699735403061, -0.048582661896944046, -0.029478542506694794, -0.04200376197695732, -0.05769191309809685, 0.029605060815811157, -0.03871430829167366, -0.059210121631622314, -0.01353735662996769, 0.03618396073579788, 0.018977602943778038, 0.05035390704870224, -0.06401778012514114, 0.012714994139969349, -0.0354248583316803, 0.011576337739825249, 0.08046503365039825, 0.03200889006257057, 0.02100188098847866, 0.002103351056575775, 0.06933151185512543, -0.09564711898565292, -0.03744913637638092, 0.06528295576572418, 0.04883569851517677, -0.05895708501338959, -0.016320738941431046, -0.03517182543873787, -0.006072832737118006, 0.08704394102096558, 0.01239870022982359, 0.08097110688686371, -0.11285347491502762, 0.10829885303974152, 0.04352197051048279, -0.0599692240357399, -0.05414942651987076, 0.016573773697018623, -0.051113009452819824, 0.1199384480714798, -0.06300564110279083, -0.061487432569265366, 0.08400752395391464, -0.08299538493156433, 0.02580953948199749, 0.09412890672683716, 0.09261070191860199, 0.07489827275276184, 0.0536433570086956, -0.058197982609272, 0.008729697205126286, 0.07591041177511215, 0.05971619114279747, 0.05516156554222107, -0.04225679486989975, 0.07135578244924545, 0.03314754739403725, -0.01745939441025257, 0.03162933886051178, -0.041497692465782166, 0.07945289462804794, -0.009552059695124626, -0.05440245941281319, 0.0845135897397995, -0.011892630718648434, -0.019104119390249252, -0.037955205887556076, 0.021507950499653816, -0.01581466943025589, 0.006610531825572252, 0.07034365087747574, 0.019104119390249252, -0.010058129206299782, -0.03390664979815483, 0.004776029847562313, -0.04352197051048279, -0.00917250756174326, -0.008856214582920074, 0.05516156554222107, 0.02125491574406624, -0.03036416508257389, 0.06831937283277512, -0.11791417002677917, 0.07742861658334732, 0.06933151185512543, -0.06882543861865997, -0.030743716284632683, -0.034665755927562714, -0.04554624482989311, 0.04681142047047615, -0.01707984320819378, -0.048582661896944046, -0.01745939441025257, 0.028845956549048424, -0.05845101550221443, -0.0023880149237811565, 0.014169943518936634, -0.006990083493292332, 0.005693280603736639, -0.11133527010679245, 0.00257779099047184, -0.0799589678645134, -0.006578902248293161, 0.014169943518936634, -0.0845135897397995, 0.02353222668170929, 0.1599179357290268, -0.18016070127487183, -0.024291330948472023, 0.011892630718648434, 0.030237646773457527, -0.0009844631422311068, -0.01353735662996769, 0.007306376937776804]\n"
     ]
    }
   ],
   "source": [
    "# bedrockクライアント\n",
    "br_client = boto3.client(\"bedrock-runtime\", region_name=\"us-east-1\")\n",
    "\n",
    "# ベクトルサイズ指定（256/512/1024）\n",
    "dimensions = 256\n",
    "\n",
    "# 日本語文章をエンべディングするためのリクエスト\n",
    "request_body = json.dumps(\n",
    "    {\n",
    "        \"inputText\": \"これは日本語の文章です。\",\n",
    "        \"dimensions\": dimensions,\n",
    "        \"normalize\": True\n",
    "    }\n",
    ")\n",
    "\n",
    "# LLMモデル指定＆実行\n",
    "response = br_client.invoke_model(\n",
    "    modelId=\"amazon.titan-embed-text-v2:0\", # v2は、次元数を設定できる,\n",
    "    contentType=\"application/json\",\n",
    "    accept=\"application/json\",\n",
    "    body=request_body\n",
    ")\n",
    "\n",
    "# 結果確認\n",
    "response_body = json.loads(response[\"body\"].read())\n",
    "embedding = response_body.get(\"embedding\")\n",
    "print(len(embedding))\n",
    "print(embedding)"
   ]
  },
  {
   "cell_type": "markdown",
   "metadata": {},
   "source": [
    "## ベクトルストアへの登録\n",
    "* 対象ファイル：data/jpbank_economy_report.pdf"
   ]
  },
  {
   "cell_type": "markdown",
   "metadata": {},
   "source": [
    "### 1. インデックス作成"
   ]
  },
  {
   "cell_type": "code",
   "execution_count": null,
   "metadata": {},
   "outputs": [],
   "source": [
    "# 環境変数読み込み\n",
    "load_dotenv()\n",
    "\n",
    "# hostは、【ドメインエンドポイント (IPv4)】を指定する。（awsの対象ドメインのコンソールから確認できる）\n",
    "host = os.environ[\"OPENSEARCH_HOST\"]\n",
    "\n",
    "# credentials = boto3.Session().get_credentials()\n",
    "# auth = AWSV4SignerAuth(credentials, region)\n",
    "# きめ細かなアクセスコントロールでマスターユーザーを指定した場合は、authの値はドメイン作成時に設定したマスターユーザのユーザ名とパスワード\n",
    "auth = (os.environ[\"OPENSEARCH_USER\"], os.environ[\"OPENSEARCH_PASS\"])\n",
    "\n",
    "os_client = OpenSearch(\n",
    "    hosts = [{'host': host, 'port': 443}],\n",
    "    http_auth = auth,\n",
    "    use_ssl = True,\n",
    "    verify_certs = True,\n",
    "    ssl_assert_hostname = False,\n",
    "    ssl_show_warn = False,\n",
    "    # connection_class = RequestsHttpConnection\n",
    ")"
   ]
  },
  {
   "cell_type": "code",
   "execution_count": 30,
   "metadata": {},
   "outputs": [
    {
     "data": {
      "text/plain": [
       "False"
      ]
     },
     "execution_count": 30,
     "metadata": {},
     "output_type": "execute_result"
    }
   ],
   "source": [
    "# インデックス名設定\n",
    "index_name = \"jp-bank-index\"\n",
    "\n",
    "# インデックス存在確認\n",
    "os_client.indices.exists(index=index_name)"
   ]
  },
  {
   "cell_type": "code",
   "execution_count": null,
   "metadata": {},
   "outputs": [
    {
     "data": {
      "text/plain": [
       "{'acknowledged': True}"
      ]
     },
     "execution_count": 28,
     "metadata": {},
     "output_type": "execute_result"
    }
   ],
   "source": [
    "# os_client.indices.delete(index_name)"
   ]
  },
  {
   "cell_type": "code",
   "execution_count": 31,
   "metadata": {},
   "outputs": [
    {
     "name": "stdout",
     "output_type": "stream",
     "text": [
      "\n",
      "Creating index:\n",
      "{'acknowledged': True, 'shards_acknowledged': True, 'index': 'jp-bank-index'}\n",
      "\n"
     ]
    }
   ],
   "source": [
    "### コサイン類似度の設定\n",
    "setting_body ={\n",
    "    \"index.knn\": True,\n",
    "    \"index.knn.space_type\": \"cosinesimil\",\n",
    "    \"analysis\": {\n",
    "      \"tokenizer\": {\n",
    "        \"kuromoji_tokenizer\": {\n",
    "          \"type\": \"kuromoji_tokenizer\",\n",
    "          \"mode\": \"search\"\n",
    "        }\n",
    "      },\n",
    "      \"analyzer\": {\n",
    "        \"my_ja_analyzer\": {\n",
    "          \"type\": \"custom\",\n",
    "          \"tokenizer\": \"kuromoji_tokenizer\",\n",
    "          \"filter\": [\n",
    "            \"kuromoji_baseform\",\n",
    "            \"kuromoji_part_of_speech\",\n",
    "            \"cjk_width\",\n",
    "            \"ja_stop\",\n",
    "            \"kuromoji_stemmer\",\n",
    "            \"lowercase\"\n",
    "          ]\n",
    "        }\n",
    "      }\n",
    "    }\n",
    "}\n",
    "\n",
    "\n",
    "# インデックス作成用関数\n",
    "def create_index(index_name, index_body):\n",
    "    # Create an index with non-default settings.\n",
    "    # https://docs.aws.amazon.com/opensearch-service/latest/developerguide/sizing-domains.html#bp-sharding\n",
    "    response = os_client.indices.create(index_name, body=index_body)\n",
    "    print('\\nCreating index:')\n",
    "    print(response)\n",
    "\n",
    "\n",
    "# ベクトルサイズ指定（256/512/1024）\n",
    "dimensions = 256\n",
    "\n",
    "\n",
    "# マッピングの作成\n",
    "mapping_body = {\n",
    "    \"properties\": {\n",
    "      \"content\": {\n",
    "        \"type\": \"text\",\n",
    "        \"analyzer\": \"my_ja_analyzer\"\n",
    "      },\n",
    "      \"vector_content\": {\n",
    "        \"type\": \"knn_vector\",\n",
    "        \"dimension\": dimensions,\n",
    "      }\n",
    "    }\n",
    "  }\n",
    "\n",
    "\n",
    "### インデックス作成\n",
    "index_body = {}\n",
    "index_body['settings'] = setting_body\n",
    "index_body['mappings'] = mapping_body\n",
    "\n",
    "response = create_index(index_name, index_body)\n",
    "print()"
   ]
  },
  {
   "cell_type": "code",
   "execution_count": 32,
   "metadata": {},
   "outputs": [
    {
     "data": {
      "text/plain": [
       "{'jp-bank-index': {'aliases': {},\n",
       "  'mappings': {'properties': {'content': {'type': 'text',\n",
       "     'analyzer': 'my_ja_analyzer'},\n",
       "    'vector_content': {'type': 'knn_vector', 'dimension': 256}}},\n",
       "  'settings': {'index': {'replication': {'type': 'DOCUMENT'},\n",
       "    'number_of_shards': '5',\n",
       "    'provided_name': 'jp-bank-index',\n",
       "    'knn.space_type': 'cosinesimil',\n",
       "    'knn': 'true',\n",
       "    'creation_date': '1732855542397',\n",
       "    'analysis': {'analyzer': {'my_ja_analyzer': {'filter': ['kuromoji_baseform',\n",
       "        'kuromoji_part_of_speech',\n",
       "        'cjk_width',\n",
       "        'ja_stop',\n",
       "        'kuromoji_stemmer',\n",
       "        'lowercase'],\n",
       "       'type': 'custom',\n",
       "       'tokenizer': 'kuromoji_tokenizer'}},\n",
       "     'tokenizer': {'kuromoji_tokenizer': {'mode': 'search',\n",
       "       'type': 'kuromoji_tokenizer'}}},\n",
       "    'number_of_replicas': '1',\n",
       "    'uuid': 'j3EzmQ4TR8aAcZuVAEZuYg',\n",
       "    'version': {'created': '136387827'}}}}}"
      ]
     },
     "execution_count": 32,
     "metadata": {},
     "output_type": "execute_result"
    }
   ],
   "source": [
    "# 作成したインデックスの確認\n",
    "os_client.indices.get(index=index_name)"
   ]
  },
  {
   "cell_type": "markdown",
   "metadata": {},
   "source": [
    "### 2. Analyzer機能確認\n",
    "* 今回はベクトル検索のみなので、Analyzerは使わないが、一応設定したので確認"
   ]
  },
  {
   "cell_type": "code",
   "execution_count": 33,
   "metadata": {},
   "outputs": [
    {
     "name": "stdout",
     "output_type": "stream",
     "text": [
      "Token: 原作, Position: 0\n",
      "Token: 本, Position: 2\n",
      "Token: 作, Position: 3\n",
      "Token: 脚本, Position: 5\n",
      "Token: 務める, Position: 7\n",
      "Token: 和田, Position: 8\n",
      "Token: 竜, Position: 9\n",
      "Token: 手掛ける, Position: 11\n",
      "Token: オリジナル, Position: 13\n",
      "Token: 脚本, Position: 15\n",
      "Token: もと, Position: 17\n",
      "Token: 自身, Position: 19\n",
      "Token: 書き下ろす, Position: 21\n",
      "Token: 小説, Position: 23\n",
      "Token: 2008, Position: 24\n",
      "Token: 年, Position: 25\n",
      "Token: 第, Position: 27\n",
      "Token: 139, Position: 28\n",
      "Token: 回, Position: 29\n",
      "Token: 直木, Position: 30\n",
      "Token: 直木賞, Position: 30\n",
      "Token: 賞, Position: 31\n",
      "Token: ノミネート, Position: 33\n",
      "Token: 翌年, Position: 36\n",
      "Token: 本屋, Position: 37\n",
      "Token: 大賞, Position: 38\n",
      "Token: 2, Position: 39\n",
      "Token: 位, Position: 40\n",
      "Token: 受賞, Position: 42\n",
      "Token: 歴史, Position: 44\n",
      "Token: 小説, Position: 45\n",
      "Token: ファン, Position: 46\n",
      "Token: もちろん, Position: 48\n",
      "Token: 若年, Position: 51\n",
      "Token: 層, Position: 52\n",
      "Token: 女性, Position: 54\n",
      "Token: 層, Position: 55\n",
      "Token: 幅広い, Position: 57\n",
      "Token: 支持, Position: 58\n",
      "Token: 集める, Position: 60\n",
      "Token: 本, Position: 64\n",
      "Token: 作, Position: 65\n",
      "Token: 8, Position: 67\n",
      "Token: 月, Position: 68\n",
      "Token: 下旬, Position: 69\n",
      "Token: 9, Position: 71\n",
      "Token: 月, Position: 72\n",
      "Token: 初頭, Position: 73\n",
      "Token: カナダ, Position: 75\n",
      "Token: 開く, Position: 77\n",
      "Token: 第, Position: 79\n",
      "Token: 36, Position: 80\n",
      "Token: 回, Position: 81\n",
      "Token: モントリオール, Position: 82\n",
      "Token: 世界, Position: 83\n",
      "Token: 映画, Position: 84\n",
      "Token: 祭, Position: 85\n",
      "Token: ワールド, Position: 86\n",
      "Token: グレイツ, Position: 87\n",
      "Token: 部門, Position: 88\n",
      "Token: 特別, Position: 90\n",
      "Token: 招待, Position: 91\n",
      "Token: 決定, Position: 96\n"
     ]
    }
   ],
   "source": [
    "# アナライザーにかけたいテキスト\n",
    "text_to_analyze = \"原作は、本作で脚本を務める和田竜が手掛けたオリジナルの脚本をもとに自身が書き下ろした小説。2008年に第139回直木賞にノミネートされ、翌年、本屋大賞2位を受賞し、歴史小説ファンはもちろんのこと、若年層から女性層といった幅広い支持を集めている。また本作は、8月下旬から9月初頭にかけてカナダにて開かれる「第36回モントリオール世界映画祭」ワールド・グレイツ部門に特別招待されることが決定している。\"\n",
    "\n",
    "# `_analyze` APIを使ってアナライザーをテスト\n",
    "analyze_response = os_client.indices.analyze(index=index_name, body={\n",
    "    \"analyzer\": \"my_ja_analyzer\",  # 設定したカスタムアナライザー\n",
    "    \"text\": text_to_analyze\n",
    "})\n",
    "\n",
    "# 分解されたトークンを表示\n",
    "for token in analyze_response['tokens']:\n",
    "    print(f\"Token: {token['token']}, Position: {token['position']}\")\n"
   ]
  },
  {
   "cell_type": "markdown",
   "metadata": {},
   "source": [
    "### 3. RAG用ファイル読み込みとチャンキング"
   ]
  },
  {
   "cell_type": "code",
   "execution_count": 34,
   "metadata": {},
   "outputs": [],
   "source": [
    "# 日銀資料(pdf)の読み込みと文章のチャンク化\n",
    "\n",
    "# pdfのload\n",
    "file_path = \"./data/jpbank_economy_report.pdf\"\n",
    "loader = PyPDFLoader(file_path)\n",
    "pages = []\n",
    "async for page in loader.alazy_load():\n",
    "    pages.append(page)"
   ]
  },
  {
   "cell_type": "code",
   "execution_count": 35,
   "metadata": {},
   "outputs": [
    {
     "name": "stdout",
     "output_type": "stream",
     "text": [
      "43\n"
     ]
    },
    {
     "data": {
      "text/plain": [
       "' \\n4 \\nこうした見通しを前回の展望レポートにおける見通しと比較すると、2025\\n年度が、このところの原油等の資源価格下落の影響などから幾分下振れている。 \\n消費者物価（除く生鮮食品）の見通しは、原油価格や政府による施策に関す\\nる前提にも依存する。原油価格については、先物市場の動向などを参考に、見\\n通し期間終盤にかけて緩やかに低下していく前提としている。政府によるガソ\\nリン ・電気 ・ ガス代の負担緩和策は、昨年度までの消費者物価 （除く生鮮食品）\\nの前年比を押し下げる方向に作用してきた。2024 年度と 2025 年度について\\nは、負担緩和策の段階的な縮小・終了が、前年比を押し上げる方向に作用する\\nとみられる。エネルギー価格の変動の直接的な影響を受けない消費者物価 （除\\nく生鮮食品・エネルギー）の前年比は、既往の輸入物価の上昇を起点とする価\\n格転嫁の影響は徐々に減衰するものの、賃金上昇等を受けたサービス価格等の\\n緩やかな上昇が続くことから、２％程度で推移するとみられる。 \\n物価の基調を規定する主たる要因について点検すると、労働や設備の稼働状\\n況を表すマクロ的な需給ギャップは、振れを伴いつつも、改善傾向をたどって\\nいる。先行きの需給ギャップは、上記の経済の見通しのもとで、見通し期間終\\n盤にかけては、プラス幅を緩やかに拡大していくと予想される。この間、女性\\nや高齢者による労働参加の増加ペースの鈍化もあって、 労働需給はマクロ的な\\n需給ギャップ以上に引き締まり、賃金の上昇圧力は強まっていくと考えられる。\\nこのことは、コスト面では人件費の上昇圧力をもたらすとともに、家計の購買\\n力の増加に寄与するとみられる。 \\n次に、中長期的な予想物価上昇率をみると、緩やかに上昇している。短観に\\nおける企業の物価全般の見通しは、 緩やかに上昇している。適合的予想形成の\\n強いわが国において、これまでの物価上昇率の高まりは、 家計や企業の中長期\\n的な予想物価上昇率の上昇をもたらしてきている。企業の賃金・価格設定行動\\nには、 従来よりも積極的な動きがみられており、名目賃金ははっきりと増加し\\nている。また、 賃金の上昇を販売価格に反映する動きも引き続き強まってきて\\nいる。先行きについては、需給ギャップの改善が続き、企業の賃金・価格設定\\n行動が変化するもと、予想物価上昇率は緩やかに上昇していくと考えられる。\\nこうしたもと、物価上昇を反映した賃上げが実現するとともに、賃金上昇が販\\n売価格に反映されていくことを通じて、 賃金と物価の好循環は引き続き強まっ\\nていくとみられる。 '"
      ]
     },
     "execution_count": 35,
     "metadata": {},
     "output_type": "execute_result"
    }
   ],
   "source": [
    "print(len(pages))\n",
    "pages[5].page_content"
   ]
  },
  {
   "cell_type": "code",
   "execution_count": null,
   "metadata": {},
   "outputs": [
    {
     "data": {
      "text/plain": [
       "72"
      ]
     },
     "execution_count": 17,
     "metadata": {},
     "output_type": "execute_result"
    }
   ],
   "source": [
    "# チャンク化\n",
    "text_splitter = RecursiveCharacterTextSplitter(\n",
    "    chunk_size=1000,\n",
    "    chunk_overlap=200,\n",
    "    separators=[\"\\n\\n\", \"。\", \"、\", \"\\n\", \"！\", \"？\", \"；\", \"：\", \"「\", \"」\", \"『\", \"』\", \"（\", \"）\", \"・\", \"…\", \"　\"],\n",
    ")\n",
    "all_splits = text_splitter.split_documents(pages)\n",
    "\n",
    "len(all_splits)"
   ]
  },
  {
   "cell_type": "code",
   "execution_count": 36,
   "metadata": {},
   "outputs": [
    {
     "name": "stdout",
     "output_type": "stream",
     "text": [
      "経済・物価情勢の展望 \n",
      "2024 年 10 月 \n",
      "公表時間 \n",
      "11 月 1 日（金）14 時 00 分\n",
      "-----------------\n",
      "本稿の内容について、商用目的で転載・複製を行う場合（引用は含まれません）\n",
      "は、予め日本銀行政策委員会室までご相談ください。 \n",
      "引用・転載・複製を行う場合は、出所を明記してください。\n",
      "-----------------\n",
      "1 \n",
      " \n",
      " \n",
      " \n",
      "経済・物価情勢の展望（2024 年10月） \n",
      "【基本的見解】  1 \n",
      "＜概要＞ \n",
      "                              \n",
      "1 本基本的見解は、10 月 30、31 日開催の政策委員会・金融政策決定会合で決定されたものであ\n",
      "る。 \n",
      " 先行きのわが国経済を展望すると、海外経済が緩やかな成長を続けるもとで、緩和的な\n",
      "金融環境などを背景に、所得から支出への前向きの循環メカニズムが徐々に強まること\n",
      "から、潜在成長率を上回る成長を続けると考えられる。 \n",
      " 物価の先行きを展望すると、消費者物価（除く生鮮食品）の前年比は、2024年度に２％\n",
      "台半ばとなったあと、2025年度および2026年度は、概ね２％程度で推移すると予想さ\n",
      "れる。既往の輸入物価上昇を起点とする価格転嫁の影響が減衰する一方、消費者物価の基\n",
      "調的な上昇率は、マクロ的な需給ギャップの改善に加え、賃金と物価の好循環が引き続き\n",
      "強まり中長期的な予想物価上昇率が上昇していくことから、徐々に高まっていくと予想さ\n",
      "れ、 見通し期間後半には 「物価安定の目標」 と概ね整合的な水準で推移すると考えられる。\n",
      "なお、2025年度にかけては、消費者物価（除く生鮮食品）の前年比に対して、政府によ\n",
      "る施策の反動が押し上げ方向で、 このところの原油等の資源価格下落の影響などが押し下\n",
      "げ方向で、それぞれ作用すると見込まれる。 \n",
      " 前回の見通しと比べると、成長率については概ね不変である。消費者物価（除く生鮮食\n",
      "品） の前年比については、2025年度が、このところの原油等の資源価格下落の影響など\n",
      "から幾分下振れている。 \n",
      " リスク要因をみると、海外の経済・物価動向、資源価格の動向、企業の賃金・価格設定\n",
      "行動など、わが国経済・物価を巡る不確実性は引き続き高い。そのもとで、金融・為替\n",
      "市場の動向やそのわが国経済・物価への影響を、十分注視する必要がある。とくに、こ\n",
      "のところ、企業の賃金・価格設定行動が積極化するもとで、過去と比べると、為替の変\n",
      "動が物価に影響を及ぼしやすくなっている面がある。 \n",
      " リスクバランスをみると、経済の見通しについては概ね上下にバランスしている。物価\n",
      "の見通しについては、2025年度は上振れリスクの方が大きい。\n",
      "-----------------\n",
      "2 \n",
      "１．わが国の経済・物価の現状 \n",
      "わが国の景気は、一部に弱めの動きもみられるが、緩やかに回復している。\n",
      "海外経済は、総じてみれば緩やかに成長している。 輸出や鉱工業生産は横ばい\n",
      "圏内の動きとなっている。企業収益は改善しており、業況感は良好な水準を維\n",
      "持している。こうしたもとで、設備投資は緩やかな増加傾向にある。雇用・所\n",
      "得環境は緩やかに改善している。 個人消費は、物価上昇の影響などがみられる\n",
      "ものの、緩やかな増加基調にある。住宅投資は弱めの動きとなっている。公共\n",
      "投資は横ばい圏内の動きとなっている。 わが国の金融環境は、 緩和した状態に\n",
      "ある。物価面では、消費者物価（除く生鮮食品）の前年比をみると、既往の輸\n",
      "入物価上昇を起点とする価格転嫁の影響は減衰してきているものの、賃金上昇\n",
      "等を受けたサービス価格の緩やかな上昇が続くもとで、 足もとは２％台半ばと\n",
      "なっている。予想物価上昇率は、緩やかに上昇している。 \n",
      "２．わが国の経済・物価の中心的な見通し2 \n",
      "（１）経済の中心的な見通し \n",
      "先行きのわが国経済を展望すると、海外経済が緩やかな成長を続けるもとで、\n",
      "緩和的な金融環境などを背景に、所得から支出への前向きの循環メカニズムが\n",
      "徐々に強まることから、潜在成長率を上回る成長を続けると考えられる。 \n",
      "こうした見通しは、前回の展望レポートにおける見通しから概ね不変である。 \n",
      "家計部門をみると、雇用は増加を続けるが、 これまで女性や高齢者の労働参\n",
      "加が相応に進んできたなかで、 追加的な労働供給が見込みにくくなってくるた\n",
      "め、その増加ペースは徐々に緩やかになっていくと考えられる。もっとも、こ\n",
      "のことは、 景気回復の過程で、 労働需給の引き締まりを強める方向に作用する。\n",
      "そのもとで、名目賃金は、 物価上昇も反映する形ではっきりとした増加が続く\n",
      "とみられ、雇用者所得も増加を続けると予想される。こうしたもとで、個人消\n",
      "費は、 当面は物価上昇の影響を受けつつも、 賃金上昇率の高まりなどを背景に、\n",
      "緩やかな増加を続けるとみられる。政府によるガソリン代の負担緩和策の継続\n",
      "なども、当面の個人消費を下支えすると考えられる\n",
      "-----------------\n",
      "。\n",
      "そのもとで、名目賃金は、 物価上昇も反映する形ではっきりとした増加が続く\n",
      "とみられ、雇用者所得も増加を続けると予想される。こうしたもとで、個人消\n",
      "費は、 当面は物価上昇の影響を受けつつも、 賃金上昇率の高まりなどを背景に、\n",
      "緩やかな増加を続けるとみられる。政府によるガソリン代の負担緩和策の継続\n",
      "なども、当面の個人消費を下支えすると考えられる。 \n",
      "                              \n",
      "2  各政策委員は、既に決定した政策を前提として、また、先行きの政策運営については、\n",
      "先行き政策金利が緩やかに上昇していくという市場の織り込みを参考にして、 見通しを作\n",
      "成している。\n",
      "-----------------\n"
     ]
    }
   ],
   "source": [
    "i = 0\n",
    "for chunk in all_splits:\n",
    "    print(chunk.page_content)\n",
    "    print(\"-----------------\")\n",
    "    i += 1\n",
    "    if i > 4:\n",
    "        break"
   ]
  },
  {
   "cell_type": "markdown",
   "metadata": {},
   "source": [
    "### 4. embeddingとvector storeへの保存"
   ]
  },
  {
   "cell_type": "code",
   "execution_count": 38,
   "metadata": {},
   "outputs": [],
   "source": [
    "# embedding用関数\n",
    "def embedding_func(input_text, br_client, dimensions):\n",
    "    \n",
    "    # 日本語の文章をエンベディングするためのリクエスト\n",
    "    request_body = json.dumps(\n",
    "        {\n",
    "            \"inputText\": input_text,\n",
    "            \"dimensions\": dimensions,\n",
    "            \"normalize\": True\n",
    "            })\n",
    "    ### dimensionsとnormaizeは、v2でのみ指定可能！！！\n",
    "\n",
    "    # モデルIDやcontentTypeを適切に指定してリクエスト\n",
    "    response = br_client.invoke_model(\n",
    "        # modelId=\"amazon.titan-embed-text-v1\",\n",
    "        modelId=\"amazon.titan-embed-text-v2:0\",\n",
    "        contentType='application/json',\n",
    "        accept='application/json',\n",
    "        body=request_body\n",
    "    )\n",
    "\n",
    "    # 結果を表示\n",
    "    response_body = json.loads(response['body'].read())\n",
    "    embedding = response_body.get('embedding')\n",
    "\n",
    "    return embedding\n",
    "\n",
    "\n",
    "# Opensearchに登録する関数\n",
    "def index_report(content, os_client, br_clinet, dimensions):\n",
    "    # embedding\n",
    "    embed_text = embedding_func(content, br_client, dimensions)\n",
    "    \n",
    "    doc = {\n",
    "        \"content\": content,\n",
    "        \"vector_content\": embed_text\n",
    "    }\n",
    "\n",
    "    # indexに登録\n",
    "    res = os_client.index(index=index_name, body=doc)\n",
    "    print(f\"ファイル'{file_path}'がインデックス化されました。ID: {res['_id']}\")\n",
    "\n",
    "    # return doc"
   ]
  },
  {
   "cell_type": "code",
   "execution_count": 39,
   "metadata": {},
   "outputs": [
    {
     "name": "stderr",
     "output_type": "stream",
     "text": [
      "  1%|▏         | 1/72 [00:02<02:23,  2.02s/it]"
     ]
    },
    {
     "name": "stdout",
     "output_type": "stream",
     "text": [
      "ファイル'./data/jpbank_economy_report.pdf'がインデックス化されました。ID: 3vs9dpMBygWmEmTv9DkU\n"
     ]
    },
    {
     "name": "stderr",
     "output_type": "stream",
     "text": [
      "  3%|▎         | 2/72 [00:02<01:24,  1.21s/it]"
     ]
    },
    {
     "name": "stdout",
     "output_type": "stream",
     "text": [
      "ファイル'./data/jpbank_economy_report.pdf'がインデックス化されました。ID: 3_s9dpMBygWmEmTv-jk8\n"
     ]
    },
    {
     "name": "stderr",
     "output_type": "stream",
     "text": [
      "  4%|▍         | 3/72 [00:03<01:16,  1.10s/it]"
     ]
    },
    {
     "name": "stdout",
     "output_type": "stream",
     "text": [
      "ファイル'./data/jpbank_economy_report.pdf'がインデックス化されました。ID: 4Ps9dpMBygWmEmTv_Dnd\n"
     ]
    },
    {
     "name": "stderr",
     "output_type": "stream",
     "text": [
      "  6%|▌         | 4/72 [00:04<01:02,  1.09it/s]"
     ]
    },
    {
     "name": "stdout",
     "output_type": "stream",
     "text": [
      "ファイル'./data/jpbank_economy_report.pdf'がインデックス化されました。ID: 4fs-dpMBygWmEmTvADm3\n"
     ]
    },
    {
     "name": "stderr",
     "output_type": "stream",
     "text": [
      "  7%|▋         | 5/72 [00:04<00:50,  1.33it/s]"
     ]
    },
    {
     "name": "stdout",
     "output_type": "stream",
     "text": [
      "ファイル'./data/jpbank_economy_report.pdf'がインデックス化されました。ID: 4vs-dpMBygWmEmTvAjn9\n"
     ]
    },
    {
     "name": "stderr",
     "output_type": "stream",
     "text": [
      "  8%|▊         | 6/72 [00:05<00:44,  1.48it/s]"
     ]
    },
    {
     "name": "stdout",
     "output_type": "stream",
     "text": [
      "ファイル'./data/jpbank_economy_report.pdf'がインデックス化されました。ID: 4_s-dpMBygWmEmTvBDnn\n"
     ]
    },
    {
     "name": "stderr",
     "output_type": "stream",
     "text": [
      " 10%|▉         | 7/72 [00:05<00:39,  1.65it/s]"
     ]
    },
    {
     "name": "stdout",
     "output_type": "stream",
     "text": [
      "ファイル'./data/jpbank_economy_report.pdf'がインデックス化されました。ID: 5Ps-dpMBygWmEmTvBjnF\n"
     ]
    },
    {
     "name": "stderr",
     "output_type": "stream",
     "text": [
      " 11%|█         | 8/72 [00:06<00:38,  1.67it/s]"
     ]
    },
    {
     "name": "stdout",
     "output_type": "stream",
     "text": [
      "ファイル'./data/jpbank_economy_report.pdf'がインデックス化されました。ID: 5fs-dpMBygWmEmTvCDnc\n"
     ]
    },
    {
     "name": "stderr",
     "output_type": "stream",
     "text": [
      " 12%|█▎        | 9/72 [00:06<00:34,  1.80it/s]"
     ]
    },
    {
     "name": "stdout",
     "output_type": "stream",
     "text": [
      "ファイル'./data/jpbank_economy_report.pdf'がインデックス化されました。ID: 5vs-dpMBygWmEmTvCjnr\n"
     ]
    },
    {
     "name": "stderr",
     "output_type": "stream",
     "text": [
      " 14%|█▍        | 10/72 [00:07<00:34,  1.77it/s]"
     ]
    },
    {
     "name": "stdout",
     "output_type": "stream",
     "text": [
      "ファイル'./data/jpbank_economy_report.pdf'がインデックス化されました。ID: 5_s-dpMBygWmEmTvDTkC\n"
     ]
    },
    {
     "name": "stderr",
     "output_type": "stream",
     "text": [
      " 15%|█▌        | 11/72 [00:07<00:34,  1.76it/s]"
     ]
    },
    {
     "name": "stdout",
     "output_type": "stream",
     "text": [
      "ファイル'./data/jpbank_economy_report.pdf'がインデックス化されました。ID: 6Ps-dpMBygWmEmTvDzk5\n"
     ]
    },
    {
     "name": "stderr",
     "output_type": "stream",
     "text": [
      " 17%|█▋        | 12/72 [00:08<00:32,  1.87it/s]"
     ]
    },
    {
     "name": "stdout",
     "output_type": "stream",
     "text": [
      "ファイル'./data/jpbank_economy_report.pdf'がインデックス化されました。ID: 6fs-dpMBygWmEmTvETk-\n"
     ]
    },
    {
     "name": "stderr",
     "output_type": "stream",
     "text": [
      " 18%|█▊        | 13/72 [00:08<00:30,  1.91it/s]"
     ]
    },
    {
     "name": "stdout",
     "output_type": "stream",
     "text": [
      "ファイル'./data/jpbank_economy_report.pdf'がインデックス化されました。ID: 6vs-dpMBygWmEmTvEzkY\n"
     ]
    },
    {
     "name": "stderr",
     "output_type": "stream",
     "text": [
      " 19%|█▉        | 14/72 [00:09<00:29,  1.97it/s]"
     ]
    },
    {
     "name": "stdout",
     "output_type": "stream",
     "text": [
      "ファイル'./data/jpbank_economy_report.pdf'がインデックス化されました。ID: 6_s-dpMBygWmEmTvFDn3\n"
     ]
    },
    {
     "name": "stderr",
     "output_type": "stream",
     "text": [
      " 21%|██        | 15/72 [00:09<00:28,  2.00it/s]"
     ]
    },
    {
     "name": "stdout",
     "output_type": "stream",
     "text": [
      "ファイル'./data/jpbank_economy_report.pdf'がインデックス化されました。ID: 7Ps-dpMBygWmEmTvFjna\n"
     ]
    },
    {
     "name": "stderr",
     "output_type": "stream",
     "text": [
      " 22%|██▏       | 16/72 [00:10<00:27,  2.02it/s]"
     ]
    },
    {
     "name": "stdout",
     "output_type": "stream",
     "text": [
      "ファイル'./data/jpbank_economy_report.pdf'がインデックス化されました。ID: 7fs-dpMBygWmEmTvGDm9\n"
     ]
    },
    {
     "name": "stderr",
     "output_type": "stream",
     "text": [
      " 24%|██▎       | 17/72 [00:10<00:27,  2.00it/s]"
     ]
    },
    {
     "name": "stdout",
     "output_type": "stream",
     "text": [
      "ファイル'./data/jpbank_economy_report.pdf'がインデックス化されました。ID: 7vs-dpMBygWmEmTvGjnD\n"
     ]
    },
    {
     "name": "stderr",
     "output_type": "stream",
     "text": [
      " 25%|██▌       | 18/72 [00:11<00:26,  2.03it/s]"
     ]
    },
    {
     "name": "stdout",
     "output_type": "stream",
     "text": [
      "ファイル'./data/jpbank_economy_report.pdf'がインデックス化されました。ID: 7_s-dpMBygWmEmTvHDmR\n"
     ]
    },
    {
     "name": "stderr",
     "output_type": "stream",
     "text": [
      " 26%|██▋       | 19/72 [00:11<00:26,  1.99it/s]"
     ]
    },
    {
     "name": "stdout",
     "output_type": "stream",
     "text": [
      "ファイル'./data/jpbank_economy_report.pdf'がインデックス化されました。ID: 8Ps-dpMBygWmEmTvHjmK\n"
     ]
    },
    {
     "name": "stderr",
     "output_type": "stream",
     "text": [
      " 28%|██▊       | 20/72 [00:12<00:25,  2.02it/s]"
     ]
    },
    {
     "name": "stdout",
     "output_type": "stream",
     "text": [
      "ファイル'./data/jpbank_economy_report.pdf'がインデックス化されました。ID: 8fs-dpMBygWmEmTvIDmG\n"
     ]
    },
    {
     "name": "stderr",
     "output_type": "stream",
     "text": [
      " 29%|██▉       | 21/72 [00:12<00:24,  2.07it/s]"
     ]
    },
    {
     "name": "stdout",
     "output_type": "stream",
     "text": [
      "ファイル'./data/jpbank_economy_report.pdf'がインデックス化されました。ID: 8vs-dpMBygWmEmTvIjlb\n"
     ]
    },
    {
     "name": "stderr",
     "output_type": "stream",
     "text": [
      " 31%|███       | 22/72 [00:13<00:25,  2.00it/s]"
     ]
    },
    {
     "name": "stdout",
     "output_type": "stream",
     "text": [
      "ファイル'./data/jpbank_economy_report.pdf'がインデックス化されました。ID: 8_s-dpMBygWmEmTvJDlk\n"
     ]
    },
    {
     "name": "stderr",
     "output_type": "stream",
     "text": [
      " 32%|███▏      | 23/72 [00:13<00:24,  2.01it/s]"
     ]
    },
    {
     "name": "stdout",
     "output_type": "stream",
     "text": [
      "ファイル'./data/jpbank_economy_report.pdf'がインデックス化されました。ID: 9Ps-dpMBygWmEmTvJjlP\n"
     ]
    },
    {
     "name": "stderr",
     "output_type": "stream",
     "text": [
      " 33%|███▎      | 24/72 [00:14<00:24,  1.99it/s]"
     ]
    },
    {
     "name": "stdout",
     "output_type": "stream",
     "text": [
      "ファイル'./data/jpbank_economy_report.pdf'がインデックス化されました。ID: 9fs-dpMBygWmEmTvKDlV\n"
     ]
    },
    {
     "name": "stderr",
     "output_type": "stream",
     "text": [
      " 35%|███▍      | 25/72 [00:14<00:23,  2.02it/s]"
     ]
    },
    {
     "name": "stdout",
     "output_type": "stream",
     "text": [
      "ファイル'./data/jpbank_economy_report.pdf'がインデックス化されました。ID: 9vs-dpMBygWmEmTvKjlE\n"
     ]
    },
    {
     "name": "stderr",
     "output_type": "stream",
     "text": [
      " 36%|███▌      | 26/72 [00:15<00:22,  2.01it/s]"
     ]
    },
    {
     "name": "stdout",
     "output_type": "stream",
     "text": [
      "ファイル'./data/jpbank_economy_report.pdf'がインデックス化されました。ID: 9_s-dpMBygWmEmTvLDkw\n"
     ]
    },
    {
     "name": "stderr",
     "output_type": "stream",
     "text": [
      " 38%|███▊      | 27/72 [00:15<00:22,  2.00it/s]"
     ]
    },
    {
     "name": "stdout",
     "output_type": "stream",
     "text": [
      "ファイル'./data/jpbank_economy_report.pdf'がインデックス化されました。ID: -Ps-dpMBygWmEmTvLjkh\n"
     ]
    },
    {
     "name": "stderr",
     "output_type": "stream",
     "text": [
      " 39%|███▉      | 28/72 [00:16<00:22,  1.93it/s]"
     ]
    },
    {
     "name": "stdout",
     "output_type": "stream",
     "text": [
      "ファイル'./data/jpbank_economy_report.pdf'がインデックス化されました。ID: -fs-dpMBygWmEmTvMDlK\n"
     ]
    },
    {
     "name": "stderr",
     "output_type": "stream",
     "text": [
      " 40%|████      | 29/72 [00:16<00:21,  1.96it/s]"
     ]
    },
    {
     "name": "stdout",
     "output_type": "stream",
     "text": [
      "ファイル'./data/jpbank_economy_report.pdf'がインデックス化されました。ID: -vs-dpMBygWmEmTvMjk5\n"
     ]
    },
    {
     "name": "stderr",
     "output_type": "stream",
     "text": [
      " 42%|████▏     | 30/72 [00:17<00:22,  1.90it/s]"
     ]
    },
    {
     "name": "stdout",
     "output_type": "stream",
     "text": [
      "ファイル'./data/jpbank_economy_report.pdf'がインデックス化されました。ID: -_s-dpMBygWmEmTvNDlf\n"
     ]
    },
    {
     "name": "stderr",
     "output_type": "stream",
     "text": [
      " 43%|████▎     | 31/72 [00:17<00:21,  1.95it/s]"
     ]
    },
    {
     "name": "stdout",
     "output_type": "stream",
     "text": [
      "ファイル'./data/jpbank_economy_report.pdf'がインデックス化されました。ID: _Ps-dpMBygWmEmTvNjli\n"
     ]
    },
    {
     "name": "stderr",
     "output_type": "stream",
     "text": [
      " 44%|████▍     | 32/72 [00:18<00:20,  1.95it/s]"
     ]
    },
    {
     "name": "stdout",
     "output_type": "stream",
     "text": [
      "ファイル'./data/jpbank_economy_report.pdf'がインデックス化されました。ID: _fs-dpMBygWmEmTvODln\n"
     ]
    },
    {
     "name": "stderr",
     "output_type": "stream",
     "text": [
      " 46%|████▌     | 33/72 [00:18<00:19,  1.98it/s]"
     ]
    },
    {
     "name": "stdout",
     "output_type": "stream",
     "text": [
      "ファイル'./data/jpbank_economy_report.pdf'がインデックス化されました。ID: _vs-dpMBygWmEmTvOjk7\n"
     ]
    },
    {
     "name": "stderr",
     "output_type": "stream",
     "text": [
      " 47%|████▋     | 34/72 [00:19<00:19,  1.98it/s]"
     ]
    },
    {
     "name": "stdout",
     "output_type": "stream",
     "text": [
      "ファイル'./data/jpbank_economy_report.pdf'がインデックス化されました。ID: __s-dpMBygWmEmTvPDk8\n"
     ]
    },
    {
     "name": "stderr",
     "output_type": "stream",
     "text": [
      " 49%|████▊     | 35/72 [00:19<00:18,  2.01it/s]"
     ]
    },
    {
     "name": "stdout",
     "output_type": "stream",
     "text": [
      "ファイル'./data/jpbank_economy_report.pdf'がインデックス化されました。ID: APs-dpMBygWmEmTvPjol\n"
     ]
    },
    {
     "name": "stderr",
     "output_type": "stream",
     "text": [
      " 50%|█████     | 36/72 [00:20<00:18,  1.99it/s]"
     ]
    },
    {
     "name": "stdout",
     "output_type": "stream",
     "text": [
      "ファイル'./data/jpbank_economy_report.pdf'がインデックス化されました。ID: Afs-dpMBygWmEmTvQDon\n"
     ]
    },
    {
     "name": "stderr",
     "output_type": "stream",
     "text": [
      " 51%|█████▏    | 37/72 [00:20<00:17,  2.04it/s]"
     ]
    },
    {
     "name": "stdout",
     "output_type": "stream",
     "text": [
      "ファイル'./data/jpbank_economy_report.pdf'がインデックス化されました。ID: Avs-dpMBygWmEmTvQTr0\n"
     ]
    },
    {
     "name": "stderr",
     "output_type": "stream",
     "text": [
      " 53%|█████▎    | 38/72 [00:21<00:16,  2.03it/s]"
     ]
    },
    {
     "name": "stdout",
     "output_type": "stream",
     "text": [
      "ファイル'./data/jpbank_economy_report.pdf'がインデックス化されました。ID: A_s-dpMBygWmEmTvQzrh\n"
     ]
    },
    {
     "name": "stderr",
     "output_type": "stream",
     "text": [
      " 54%|█████▍    | 39/72 [00:21<00:16,  2.03it/s]"
     ]
    },
    {
     "name": "stdout",
     "output_type": "stream",
     "text": [
      "ファイル'./data/jpbank_economy_report.pdf'がインデックス化されました。ID: BPs-dpMBygWmEmTvRTrN\n"
     ]
    },
    {
     "name": "stderr",
     "output_type": "stream",
     "text": [
      " 56%|█████▌    | 40/72 [00:22<00:16,  1.98it/s]"
     ]
    },
    {
     "name": "stdout",
     "output_type": "stream",
     "text": [
      "ファイル'./data/jpbank_economy_report.pdf'がインデックス化されました。ID: Bfs-dpMBygWmEmTvRzro\n"
     ]
    },
    {
     "name": "stderr",
     "output_type": "stream",
     "text": [
      " 57%|█████▋    | 41/72 [00:22<00:16,  1.93it/s]"
     ]
    },
    {
     "name": "stdout",
     "output_type": "stream",
     "text": [
      "ファイル'./data/jpbank_economy_report.pdf'がインデックス化されました。ID: Bvs-dpMBygWmEmTvSjoP\n"
     ]
    },
    {
     "name": "stderr",
     "output_type": "stream",
     "text": [
      " 58%|█████▊    | 42/72 [00:23<00:15,  1.89it/s]"
     ]
    },
    {
     "name": "stdout",
     "output_type": "stream",
     "text": [
      "ファイル'./data/jpbank_economy_report.pdf'がインデックス化されました。ID: B_s-dpMBygWmEmTvTDo4\n"
     ]
    },
    {
     "name": "stderr",
     "output_type": "stream",
     "text": [
      " 60%|█████▉    | 43/72 [00:24<00:15,  1.89it/s]"
     ]
    },
    {
     "name": "stdout",
     "output_type": "stream",
     "text": [
      "ファイル'./data/jpbank_economy_report.pdf'がインデックス化されました。ID: CPs-dpMBygWmEmTvTjpH\n"
     ]
    },
    {
     "name": "stderr",
     "output_type": "stream",
     "text": [
      " 61%|██████    | 44/72 [00:24<00:14,  1.89it/s]"
     ]
    },
    {
     "name": "stdout",
     "output_type": "stream",
     "text": [
      "ファイル'./data/jpbank_economy_report.pdf'がインデックス化されました。ID: Cfs-dpMBygWmEmTvUDpV\n"
     ]
    },
    {
     "name": "stderr",
     "output_type": "stream",
     "text": [
      " 62%|██████▎   | 45/72 [00:25<00:14,  1.92it/s]"
     ]
    },
    {
     "name": "stdout",
     "output_type": "stream",
     "text": [
      "ファイル'./data/jpbank_economy_report.pdf'がインデックス化されました。ID: Cvs-dpMBygWmEmTvUjpV\n"
     ]
    },
    {
     "name": "stderr",
     "output_type": "stream",
     "text": [
      " 64%|██████▍   | 46/72 [00:25<00:13,  1.96it/s]"
     ]
    },
    {
     "name": "stdout",
     "output_type": "stream",
     "text": [
      "ファイル'./data/jpbank_economy_report.pdf'がインデックス化されました。ID: C_s-dpMBygWmEmTvVDo2\n"
     ]
    },
    {
     "name": "stderr",
     "output_type": "stream",
     "text": [
      " 65%|██████▌   | 47/72 [00:26<00:12,  1.94it/s]"
     ]
    },
    {
     "name": "stdout",
     "output_type": "stream",
     "text": [
      "ファイル'./data/jpbank_economy_report.pdf'がインデックス化されました。ID: DPs-dpMBygWmEmTvVjo-\n"
     ]
    },
    {
     "name": "stderr",
     "output_type": "stream",
     "text": [
      " 67%|██████▋   | 48/72 [00:26<00:12,  1.99it/s]"
     ]
    },
    {
     "name": "stdout",
     "output_type": "stream",
     "text": [
      "ファイル'./data/jpbank_economy_report.pdf'がインデックス化されました。ID: Dfs-dpMBygWmEmTvWDoT\n"
     ]
    },
    {
     "name": "stderr",
     "output_type": "stream",
     "text": [
      " 68%|██████▊   | 49/72 [00:27<00:11,  2.03it/s]"
     ]
    },
    {
     "name": "stdout",
     "output_type": "stream",
     "text": [
      "ファイル'./data/jpbank_economy_report.pdf'がインデックス化されました。ID: Dvs-dpMBygWmEmTvWTr5\n"
     ]
    },
    {
     "name": "stderr",
     "output_type": "stream",
     "text": [
      " 69%|██████▉   | 50/72 [00:27<00:10,  2.03it/s]"
     ]
    },
    {
     "name": "stdout",
     "output_type": "stream",
     "text": [
      "ファイル'./data/jpbank_economy_report.pdf'がインデックス化されました。ID: D_s-dpMBygWmEmTvWzrZ\n"
     ]
    },
    {
     "name": "stderr",
     "output_type": "stream",
     "text": [
      " 71%|███████   | 51/72 [00:27<00:10,  2.03it/s]"
     ]
    },
    {
     "name": "stdout",
     "output_type": "stream",
     "text": [
      "ファイル'./data/jpbank_economy_report.pdf'がインデックス化されました。ID: EPs-dpMBygWmEmTvXTrJ\n"
     ]
    },
    {
     "name": "stderr",
     "output_type": "stream",
     "text": [
      " 72%|███████▏  | 52/72 [00:28<00:09,  2.00it/s]"
     ]
    },
    {
     "name": "stdout",
     "output_type": "stream",
     "text": [
      "ファイル'./data/jpbank_economy_report.pdf'がインデックス化されました。ID: Efs-dpMBygWmEmTvXzrQ\n"
     ]
    },
    {
     "name": "stderr",
     "output_type": "stream",
     "text": [
      " 74%|███████▎  | 53/72 [00:29<00:09,  1.99it/s]"
     ]
    },
    {
     "name": "stdout",
     "output_type": "stream",
     "text": [
      "ファイル'./data/jpbank_economy_report.pdf'がインデックス化されました。ID: Evs-dpMBygWmEmTvYTq_\n"
     ]
    },
    {
     "name": "stderr",
     "output_type": "stream",
     "text": [
      " 75%|███████▌  | 54/72 [00:29<00:08,  2.02it/s]"
     ]
    },
    {
     "name": "stdout",
     "output_type": "stream",
     "text": [
      "ファイル'./data/jpbank_economy_report.pdf'がインデックス化されました。ID: E_s-dpMBygWmEmTvYzqe\n"
     ]
    },
    {
     "name": "stderr",
     "output_type": "stream",
     "text": [
      " 76%|███████▋  | 55/72 [00:29<00:08,  2.06it/s]"
     ]
    },
    {
     "name": "stdout",
     "output_type": "stream",
     "text": [
      "ファイル'./data/jpbank_economy_report.pdf'がインデックス化されました。ID: FPs-dpMBygWmEmTvZTpr\n"
     ]
    },
    {
     "name": "stderr",
     "output_type": "stream",
     "text": [
      " 78%|███████▊  | 56/72 [00:30<00:07,  2.02it/s]"
     ]
    },
    {
     "name": "stdout",
     "output_type": "stream",
     "text": [
      "ファイル'./data/jpbank_economy_report.pdf'がインデックス化されました。ID: Ffs-dpMBygWmEmTvZzpi\n"
     ]
    },
    {
     "name": "stderr",
     "output_type": "stream",
     "text": [
      " 79%|███████▉  | 57/72 [00:31<00:08,  1.78it/s]"
     ]
    },
    {
     "name": "stdout",
     "output_type": "stream",
     "text": [
      "ファイル'./data/jpbank_economy_report.pdf'がインデックス化されました。ID: Fvs-dpMBygWmEmTvaTrP\n"
     ]
    },
    {
     "name": "stderr",
     "output_type": "stream",
     "text": [
      " 81%|████████  | 58/72 [00:31<00:08,  1.74it/s]"
     ]
    },
    {
     "name": "stdout",
     "output_type": "stream",
     "text": [
      "ファイル'./data/jpbank_economy_report.pdf'がインデックス化されました。ID: F_s-dpMBygWmEmTvbDp6\n"
     ]
    },
    {
     "name": "stderr",
     "output_type": "stream",
     "text": [
      " 82%|████████▏ | 59/72 [00:32<00:07,  1.84it/s]"
     ]
    },
    {
     "name": "stdout",
     "output_type": "stream",
     "text": [
      "ファイル'./data/jpbank_economy_report.pdf'がインデックス化されました。ID: GPs-dpMBygWmEmTvbjpy\n"
     ]
    },
    {
     "name": "stderr",
     "output_type": "stream",
     "text": [
      " 83%|████████▎ | 60/72 [00:32<00:06,  1.91it/s]"
     ]
    },
    {
     "name": "stdout",
     "output_type": "stream",
     "text": [
      "ファイル'./data/jpbank_economy_report.pdf'がインデックス化されました。ID: Gfs-dpMBygWmEmTvcDpM\n"
     ]
    },
    {
     "name": "stderr",
     "output_type": "stream",
     "text": [
      " 85%|████████▍ | 61/72 [00:33<00:05,  1.94it/s]"
     ]
    },
    {
     "name": "stdout",
     "output_type": "stream",
     "text": [
      "ファイル'./data/jpbank_economy_report.pdf'がインデックス化されました。ID: Gvs-dpMBygWmEmTvcjpK\n"
     ]
    },
    {
     "name": "stderr",
     "output_type": "stream",
     "text": [
      " 86%|████████▌ | 62/72 [00:33<00:05,  1.97it/s]"
     ]
    },
    {
     "name": "stdout",
     "output_type": "stream",
     "text": [
      "ファイル'./data/jpbank_economy_report.pdf'がインデックス化されました。ID: G_s-dpMBygWmEmTvdDon\n"
     ]
    },
    {
     "name": "stderr",
     "output_type": "stream",
     "text": [
      " 88%|████████▊ | 63/72 [00:34<00:04,  1.93it/s]"
     ]
    },
    {
     "name": "stdout",
     "output_type": "stream",
     "text": [
      "ファイル'./data/jpbank_economy_report.pdf'がインデックス化されました。ID: HPs-dpMBygWmEmTvdjpT\n"
     ]
    },
    {
     "name": "stderr",
     "output_type": "stream",
     "text": [
      " 89%|████████▉ | 64/72 [00:34<00:03,  2.01it/s]"
     ]
    },
    {
     "name": "stdout",
     "output_type": "stream",
     "text": [
      "ファイル'./data/jpbank_economy_report.pdf'がインデックス化されました。ID: Hfs-dpMBygWmEmTveDoY\n"
     ]
    },
    {
     "name": "stderr",
     "output_type": "stream",
     "text": [
      " 90%|█████████ | 65/72 [00:35<00:03,  1.85it/s]"
     ]
    },
    {
     "name": "stdout",
     "output_type": "stream",
     "text": [
      "ファイル'./data/jpbank_economy_report.pdf'がインデックス化されました。ID: Hvs-dpMBygWmEmTvejpk\n"
     ]
    },
    {
     "name": "stderr",
     "output_type": "stream",
     "text": [
      " 92%|█████████▏| 66/72 [00:35<00:03,  1.92it/s]"
     ]
    },
    {
     "name": "stdout",
     "output_type": "stream",
     "text": [
      "ファイル'./data/jpbank_economy_report.pdf'がインデックス化されました。ID: H_s-dpMBygWmEmTvfDpr\n"
     ]
    },
    {
     "name": "stderr",
     "output_type": "stream",
     "text": [
      " 93%|█████████▎| 67/72 [00:36<00:02,  1.92it/s]"
     ]
    },
    {
     "name": "stdout",
     "output_type": "stream",
     "text": [
      "ファイル'./data/jpbank_economy_report.pdf'がインデックス化されました。ID: IPs-dpMBygWmEmTvfjqD\n"
     ]
    },
    {
     "name": "stderr",
     "output_type": "stream",
     "text": [
      " 94%|█████████▍| 68/72 [00:36<00:02,  1.96it/s]"
     ]
    },
    {
     "name": "stdout",
     "output_type": "stream",
     "text": [
      "ファイル'./data/jpbank_economy_report.pdf'がインデックス化されました。ID: Ifs-dpMBygWmEmTvgDpd\n"
     ]
    },
    {
     "name": "stderr",
     "output_type": "stream",
     "text": [
      " 96%|█████████▌| 69/72 [00:37<00:01,  1.98it/s]"
     ]
    },
    {
     "name": "stdout",
     "output_type": "stream",
     "text": [
      "ファイル'./data/jpbank_economy_report.pdf'がインデックス化されました。ID: Ivs-dpMBygWmEmTvgjpK\n"
     ]
    },
    {
     "name": "stderr",
     "output_type": "stream",
     "text": [
      " 97%|█████████▋| 70/72 [00:37<00:00,  2.04it/s]"
     ]
    },
    {
     "name": "stdout",
     "output_type": "stream",
     "text": [
      "ファイル'./data/jpbank_economy_report.pdf'がインデックス化されました。ID: I_s-dpMBygWmEmTvhDoX\n"
     ]
    },
    {
     "name": "stderr",
     "output_type": "stream",
     "text": [
      " 99%|█████████▊| 71/72 [00:38<00:00,  2.08it/s]"
     ]
    },
    {
     "name": "stdout",
     "output_type": "stream",
     "text": [
      "ファイル'./data/jpbank_economy_report.pdf'がインデックス化されました。ID: JPs-dpMBygWmEmTvhTre\n"
     ]
    },
    {
     "name": "stderr",
     "output_type": "stream",
     "text": [
      "100%|██████████| 72/72 [00:38<00:00,  1.86it/s]"
     ]
    },
    {
     "name": "stdout",
     "output_type": "stream",
     "text": [
      "ファイル'./data/jpbank_economy_report.pdf'がインデックス化されました。ID: Jfs-dpMBygWmEmTvhzq0\n"
     ]
    },
    {
     "name": "stderr",
     "output_type": "stream",
     "text": [
      "\n"
     ]
    }
   ],
   "source": [
    "# bedrockクライアントの作成\n",
    "br_client = boto3.client('bedrock-runtime', region_name='us-east-1')\n",
    "\n",
    "# インデックスにデータ登録\n",
    "for content in tqdm(all_splits):\n",
    "    doc = index_report(content.page_content, os_client, br_client, dimensions)"
   ]
  },
  {
   "cell_type": "markdown",
   "metadata": {},
   "source": [
    "### 5. 登録確認"
   ]
  },
  {
   "cell_type": "code",
   "execution_count": 40,
   "metadata": {},
   "outputs": [
    {
     "name": "stdout",
     "output_type": "stream",
     "text": [
      "ドキュメントが見つかりました:\n",
      "ID: IPs-dpMBygWmEmTvfjqD\n",
      "Source: {'content': '38 \\nなくなってきていることが示唆された23。こうし\\nた事実を踏まえると、わが国では、正社員の人手\\n不足感の強まりが企業のこれまでの賃金設定スタ\\nンスに変化をもたらしている可能性もある。 \\n労働需給を示す各種指標としては、①職業安定\\n業務統計の有効求人倍率、②労働経済動向調査の\\n欠員率、③正社員求人数なども挙げられる。これ\\nらを比較すると、コロナ以降は、有効求人倍率が\\n他の指標対比弱めとなっている（図表 B2-5）。こ\\nの背景には、公的求人サービスの利用減少と民間\\n求人サービスの利用増加により、近年、職業安定\\n業務統計の有効求人数が減少している可能性があ\\nる24。労働需給のひっ迫度合いについては、こう\\nした点にも留意しつつ、今回開発したヒートマッ\\nプなども含め、様々な関連指標をみながら評価し\\nていくことが適切と考えられる25。 \\n  \\n                              \\n23  さくらレポート別冊「『1990 年代半ば以降の企業行動\\n等に関するアンケート調査』の集計結果について」（2024\\n年５月）を参照。 \\n24 2024 年度の経済財政白書でも、職業安定業務統計の有\\n効求人倍率のみで労働需給の引き締まりの程度を確認す\\nることが十分でなくなっている点を指摘している。 \\n25 労働経済動向調査の欠員率は、 欠員数／常用労働者数と\\nして計算。欠員数は、事業 所で仕事があるにも関わ らず、\\nその仕事に従事する人がいない状態を補充するために行\\nう求人数。常用労働者は、期間を定めずに雇われている者\\n及び 1 か月以上の期間を定めて雇われている者の合計。正\\n社員求人数指数は正社員が対象で、①民間求人サイトと、\\n②ハローワークインターネットサービスで 募集している\\n正社員求人の数（重複している求人は調整） 。 \\n図表B2-3：労働需給ヒートマップ・業種別\\n（出所）厚生労働省\\n（注）1. 労働経済動向調査の労働者過不足判断ＤＩを、雇用形態別・業種別に全期間の\\n平均と標準偏差で基準化して作成。①の2007年以前は、常用労働者の値を基に\\n作成。\\n2. 色の表示は、図表B2-2と同じ', 'vector_content': [-0.019151099026203156, 0.09954474866390228, -0.04813377559185028, 0.0852070227265358, -0.04670000448822975, -0.056121934205293655, 0.021096931770443916, -0.11224386841058731, 0.044037286192178726, 0.09872544556856155, 0.10118333995342255, 0.010087610222399235, -0.0419890396296978, -0.05018202215433121, -0.027036843821406364, 0.009575549513101578, -0.06636316329240799, -0.024476537480950356, 0.007168860174715519, 0.018536623567342758, -0.012801536358892918, -0.006323958747088909, 0.09053246676921844, 0.005811897572129965, -0.061447374522686005, -0.06431491672992706, 0.06185702234506607, -0.0319526344537735, 0.049977198243141174, -0.012955154292285442, -0.03482017666101456, 0.04936272278428078, 0.04977237433195114, -0.05817018076777458, -0.0034564146772027016, 0.0815201848745346, 0.09053246676921844, 0.011572589166462421, 0.011367764323949814, -0.08111052960157394, -0.009626755490899086, 0.005402248352766037, -0.0036356362979859114, -0.0626763179898262, 0.028060967102646828, -0.02130175568163395, 0.02488618716597557, 0.08766491711139679, 0.11142457276582718, 0.06349562108516693, -0.007988158613443375, 0.09094211459159851, -0.017205264419317245, -0.029494740068912506, -0.05857982859015465, -0.014440133236348629, -0.08192983269691467, -0.044037286192178726, 0.008858663029968739, -0.07414649426937103, -0.09258071333169937, -0.13518422842025757, -0.018843861296772957, 0.0319526344537735, 0.05100132152438164, 0.0023426811676472425, -0.08807457238435745, 0.011265351437032223, -0.05939912796020508, -0.09995439648628235, 0.01597631722688675, 0.027856143191456795, -0.008602632209658623, 0.08971316367387772, 0.02969956398010254, 0.009729167446494102, 0.0532543919980526, 0.05653158202767372, 0.0007424891227856278, 0.07660439610481262, -0.09053246676921844, 0.07086930423974991, 0.0024578948505222797, 0.03953114524483681, 0.08438772708177567, -0.12699124217033386, 0.014644957147538662, 0.032567109912633896, -0.04116974025964737, 0.019253510981798172, 0.004813377745449543, 0.09544825553894043, -0.06021842733025551, -0.15812458097934723, 0.191715806722641, 0.04567588120698929, -0.11060526967048645, -0.007066447753459215, 0.006451974157243967, 0.028675440698862076, -0.030723687261343002, 0.10077369213104248, 0.02017522044479847, 0.030109213665127754, 0.03891666978597641, 0.07414649426937103, -0.02744649350643158, 0.031133335083723068, -0.011009321548044682, -0.02375965192914009, 0.06021842733025551, 0.03912149369716644, -0.08356843143701553, 0.10364123433828354, -0.037073247134685516, -0.04813377559185028, 0.04895307496190071, 0.1065087839961052, 0.041579388082027435, 0.04526623338460922, -0.03154298663139343, -0.04874825105071068, 0.0407600924372673, 0.05653158202767372, -0.015464255586266518, 0.0720982551574707, 0.06595351547002792, -0.04116974025964737, -0.043217986822128296, 0.05653158202767372, -0.06718245893716812, 0.041579388082027435, -0.021404167637228966, 0.0520254448056221, -0.0745561495423317, -0.11552106589078903, 0.028060967102646828, 0.07496579736471176, -0.12371404469013214, -0.02437412552535534, 0.040964916348457336, 0.004301316104829311, 0.1147017627954483, 0.02683201991021633, -0.012545505538582802, -0.049157898873090744, 0.04506140574812889, -0.018024563789367676, -0.00921710580587387, -0.019151099026203156, -0.06595351547002792, 0.03789254650473595, 0.07086930423974991, 0.024476537480950356, -0.019765572622418404, -0.01741008833050728, -0.01822938770055771, 0.025091011077165604, 0.018843861296772957, -0.08192983269691467, 0.030314037576317787, 0.0037124454975128174, -0.03584429994225502, -0.057760532945394516, 0.0946289524435997, 0.11388246715068817, 0.027036843821406364, 0.05284474045038223, 0.06103772297501564, -0.007885746657848358, 0.028060967102646828, 0.04670000448822975, -0.01904868520796299, 0.010446053929626942, -0.06185702234506607, -0.063905268907547, 0.0757850930094719, -0.014952193945646286, 0.038507021963596344, -0.14010001718997955, 0.017307676374912262, 0.16140176355838776, -0.06841140985488892, -0.06472456455230713, 0.019970396533608437, -0.0049157897010445595, -0.0037380484864115715, -0.15320879220962524, 0.01372324675321579, 0.05407368764281273, 0.15894387662410736, -0.08111052960157394, -0.08971316367387772, -0.07701404392719269, -0.0532543919980526, 0.08766491711139679, -0.06185702234506607, 0.07373684644699097, 0.024783773347735405, 0.0030339639633893967, 0.02550066076219082, 0.02683201991021633, 0.09053246676921844, 0.021916229277849197, 0.017000440508127213, 0.09954474866390228, -0.01710285246372223, -0.0017154058441519737, 0.08233948051929474, 0.05120614543557167, -0.04362763464450836, 0.006503180600702763, -0.1515701860189438, 0.10241229087114334, 0.05407368764281273, 0.07947193831205368, -0.040964916348457336, -0.08356843143701553, -0.09831579774618149, -0.04854342341423035, -0.14993159472942352, -0.09544825553894043, 0.01259671151638031, -0.024783773347735405, -0.06882105767726898, -0.08233948051929474, 0.0720982551574707, 0.0011009321315214038, 0.004813377745449543, 0.14091931283473969, 0.027036843821406364, -0.02908509038388729, -0.03522982820868492, -0.03604912757873535, 0.021404167637228966, -0.07005000859498978, -0.01106052752584219, 0.014235308393836021, 0.021916229277849197, -0.09094211459159851, 0.09995439648628235, -0.0012801536358892918, -0.02150658145546913, 0.031133335083723068, -0.027036843821406364, -0.07127895206212997, -0.01710285246372223, -0.04936272278428078, -0.04670000448822975, -0.0030979716684669256, -0.02744649350643158, -0.12125615030527115, -0.02294035255908966, 0.0003744449350051582, 0.07906229048967361, 0.009677961468696594]}\n"
     ]
    }
   ],
   "source": [
    "# インデックス名と検索したいドキュメントIDを指定\n",
    "document_id = \"IPs-dpMBygWmEmTvfjqD\"  # 自動生成されたドキュメントIDを指定\n",
    "\n",
    "# 特定のIDでドキュメントを取得\n",
    "try:\n",
    "    response = os_client.get(index=index_name, id=document_id)\n",
    "    print(\"ドキュメントが見つかりました:\")\n",
    "    print(f\"ID: {response['_id']}\")\n",
    "    print(f\"Source: {response['_source']}\")\n",
    "except Exception as e:\n",
    "    print(\"ドキュメントが見つかりません:\", e)"
   ]
  },
  {
   "cell_type": "markdown",
   "metadata": {},
   "source": [
    "### 6. ベクトル検索テスト"
   ]
  },
  {
   "cell_type": "code",
   "execution_count": 46,
   "metadata": {},
   "outputs": [
    {
     "name": "stdout",
     "output_type": "stream",
     "text": [
      "{'_index': 'jp-bank-index', '_id': '5fs-dpMBygWmEmTvCDnc', '_score': 0.57236415, '_source': {'content': '4 \\nこうした見通しを前回の展望レポートにおける見通しと比較すると、2025\\n年度が、このところの原油等の資源価格下落の影響などから幾分下振れている。 \\n消費者物価（除く生鮮食品）の見通しは、原油価格や政府による施策に関す\\nる前提にも依存する。原油価格については、先物市場の動向などを参考に、見\\n通し期間終盤にかけて緩やかに低下していく前提としている。政府によるガソ\\nリン ・電気 ・ ガス代の負担緩和策は、昨年度までの消費者物価 （除く生鮮食品）\\nの前年比を押し下げる方向に作用してきた。2024 年度と 2025 年度について\\nは、負担緩和策の段階的な縮小・終了が、前年比を押し上げる方向に作用する\\nとみられる。エネルギー価格の変動の直接的な影響を受けない消費者物価 （除\\nく生鮮食品・エネルギー）の前年比は、既往の輸入物価の上昇を起点とする価\\n格転嫁の影響は徐々に減衰するものの、賃金上昇等を受けたサービス価格等の\\n緩やかな上昇が続くことから、２％程度で推移するとみられる。 \\n物価の基調を規定する主たる要因について点検すると、労働や設備の稼働状\\n況を表すマクロ的な需給ギャップは、振れを伴いつつも、改善傾向をたどって\\nいる。先行きの需給ギャップは、上記の経済の見通しのもとで、見通し期間終\\n盤にかけては、プラス幅を緩やかに拡大していくと予想される。この間、女性\\nや高齢者による労働参加の増加ペースの鈍化もあって、 労働需給はマクロ的な\\n需給ギャップ以上に引き締まり、賃金の上昇圧力は強まっていくと考えられる。\\nこのことは、コスト面では人件費の上昇圧力をもたらすとともに、家計の購買\\n力の増加に寄与するとみられる。 \\n次に、中長期的な予想物価上昇率をみると、緩やかに上昇している。短観に\\nおける企業の物価全般の見通しは、 緩やかに上昇している。適合的予想形成の\\n強いわが国において、これまでの物価上昇率の高まりは、 家計や企業の中長期\\n的な予想物価上昇率の上昇をもたらしてきている。企業の賃金・価格設定行動\\nには、 従来よりも積極的な動きがみられており、名目賃金ははっきりと増加し\\nている。また、 賃金の上昇を販売価格に反映する動きも引き続き強まってきて\\nいる', 'vector_content': [-0.012569445185363293, -0.02817722037434578, 0.0005211477400735021, 0.10168711096048355, -0.12140586972236633, -0.03735712170600891, 0.05831940844655037, -0.09401525557041168, -0.10517758876085281, -0.0525144562125206, -0.033531270921230316, 0.004350935108959675, -0.02260640822350979, 0.07038376480340958, -0.02185482531785965, -0.03173646703362465, -0.056546393781900406, 0.028625691309571266, 0.1280057728290558, 0.12122993171215057, 0.06575086712837219, 0.08472222089767456, 0.009352841414511204, -0.037893567234277725, -0.11278077214956284, 0.021000774577260017, 0.02726428583264351, -0.012632271274924278, 0.021656380966305733, 0.06849987804889679, 0.03118008002638817, 0.017813147976994514, 0.07665184885263443, -0.024339551106095314, 0.02408384345471859, 0.04087486490607262, 0.06126454472541809, 0.1365625113248825, 0.029369276016950607, 0.004924708046019077, 0.14406175911426544, -0.10128454118967056, -0.0026417048647999763, -0.04449265077710152, 0.020850548520684242, 0.026436660438776016, -0.014051981270313263, 0.09323630481958389, 0.09558611363172531, -0.027882292866706848, -0.013449694029986858, 0.04638335853815079, -0.04350564256310463, 0.04061892628669739, 0.03796960413455963, 0.029344702139496803, 0.07388614863157272, 0.05884217843413353, -0.019925326108932495, -0.05314177647233009, -0.10130343586206436, 0.024084540084004402, -0.05570804700255394, 0.10506507009267807, 0.1579052358865738, -0.11528170853853226, -0.021430348977446556, 0.016545051708817482, -0.14627839624881744, -0.010060378350317478, 0.05987265333533287, 0.020683329552412033, 0.029126321896910667, 0.02539622038602829, -0.06177270784974098, -0.08008196204900742, 0.1268918365240097, -0.03525444492697716, 0.13403688371181488, 0.04156988486647606, 0.09235398471355438, 0.09549199044704437, 0.0461340993642807, -0.07398334890604019, 0.0703081339597702, -0.0645657628774643, -0.020092938095331192, -0.08142145723104477, -0.007726340554654598, -0.03550504893064499, -0.04078676924109459, 0.16037072241306305, -0.03727586194872856, -0.03762603923678398, 0.14202669262886047, -0.084421306848526, -0.08096369355916977, 0.02060805819928646, 0.030402764678001404, -0.05732904374599457, -0.030356397852301598, 0.048044245690107346, -0.007415634114295244, -0.07615156471729279, 0.039233528077602386, 0.06649225205183029, 0.07314615696668625, 0.041464172303676605, 0.05358920618891716, -0.05225110054016113, 0.005355211440473795, -0.03928731381893158, 0.042739685624837875, -0.07551450282335281, 0.04882098361849785, -0.006878780201077461, 0.04529905691742897, -0.06793572753667831, 0.07237463444471359, 0.010572253726422787, 0.007713822647929192, -0.1334017813205719, 0.11114450544118881, 0.06430519372224808, -0.02192947454750538, -0.017107002437114716, -0.10046190768480301, -0.08404644578695297, 0.01715707592666149, -0.0419454462826252, 0.08718468993902206, 0.0237138494849205, -0.013506258837878704, 0.012562721967697144, -0.05887509882450104, 0.07232756912708282, 0.03761769086122513, -0.005419196095317602, -0.1349170207977295, -0.035109784454107285, 0.020018985494971275, 0.017506208270788193, 0.1179950088262558, 0.04224681854248047, 0.12437119334936142, -0.009000232443213463, -0.009251300245523453, -0.06415033340454102, -0.07772891223430634, 0.09273789077997208, 0.041399724781513214, 0.046440575271844864, -0.04944784566760063, 0.03258657827973366, 0.013543584384024143, -0.057566896080970764, -0.03530266508460045, -0.04615218564867973, -0.07748840004205704, -0.06006506830453873, -0.05696924775838852, 0.004674392286688089, -0.08203627169132233, -0.05827721580862999, 0.00783390924334526, 0.03868177905678749, -0.011861677281558514, 0.050453972071409225, -0.004938849713653326, 0.021390706300735474, 0.10747282952070236, -0.04359234496951103, 0.10244170576334, -0.0519246831536293, -0.023424295708537102, -0.001524032442830503, 0.05784456804394722, -0.0674886405467987, 0.04194335639476776, -0.04115612804889679, 0.03297227621078491, -0.07271913439035416, -0.09895503520965576, -0.03514687344431877, 0.00013700997806154191, 0.0031924941577017307, 0.02685024030506611, 0.03507547453045845, -0.09962469339370728, 0.05858508124947548, 0.021163515746593475, -0.0335250124335289, 0.08166824281215668, -0.07815182954072952, -0.03246196731925011, 0.07689248025417328, -0.03918113559484482, -0.03934086486697197, 0.05463149771094322, -0.04244410619139671, 0.014937099069356918, -0.02695317380130291, -0.10235907137393951, 0.11149398982524872, -0.04685601219534874, 0.06903817504644394, -0.05717134103178978, 0.01515176985412836, 0.060572072863578796, 0.07876565307378769, -0.07783057540655136, 0.04086790978908539, 0.02007717452943325, 0.06104477122426033, 0.059307921677827835, -0.009943421930074692, -0.018770596012473106, -0.051009662449359894, -0.03045561909675598, -0.07474565505981445, -0.06832229346036911, 0.0574987418949604, 0.07350224256515503, 0.03703487664461136, 0.001479522092267871, -0.009911545552313328, 0.027750659734010696, 0.028028616681694984, 0.05781982094049454, 0.015532719902694225, -0.01596270129084587, 0.08122116327285767, 0.09750518202781677, 0.0007140282541513443, -0.0752706229686737, 0.05122503265738487, -0.015779094770550728, -0.05478543043136597, 0.021735433489084244, -0.0006194427260197699, 0.11062997579574585, 0.0006571145495399833, -0.026025399565696716, 0.0429844930768013, -0.019221266731619835, 0.02582753263413906, 0.0034486630465835333, -0.04091891273856163, -0.05542249605059624, -0.16796909272670746, -0.015874085947871208, -0.07203669100999832, -0.0357060432434082, -0.017680181190371513, 0.06824509799480438, 0.006486934144049883]}}\n",
      "{'_index': 'jp-bank-index', '_id': '4Ps9dpMBygWmEmTv_Dnd', '_score': 0.55365735, '_source': {'content': '1 \\n \\n \\n \\n経済・物価情勢の展望（2024 年10月） \\n【基本的見解】  1 \\n＜概要＞ \\n                              \\n1 本基本的見解は、10 月 30、31 日開催の政策委員会・金融政策決定会合で決定されたものであ\\nる。 \\n\\uf06c 先行きのわが国経済を展望すると、海外経済が緩やかな成長を続けるもとで、緩和的な\\n金融環境などを背景に、所得から支出への前向きの循環メカニズムが徐々に強まること\\nから、潜在成長率を上回る成長を続けると考えられる。 \\n\\uf06c 物価の先行きを展望すると、消費者物価（除く生鮮食品）の前年比は、2024年度に２％\\n台半ばとなったあと、2025年度および2026年度は、概ね２％程度で推移すると予想さ\\nれる。既往の輸入物価上昇を起点とする価格転嫁の影響が減衰する一方、消費者物価の基\\n調的な上昇率は、マクロ的な需給ギャップの改善に加え、賃金と物価の好循環が引き続き\\n強まり中長期的な予想物価上昇率が上昇していくことから、徐々に高まっていくと予想さ\\nれ、 見通し期間後半には 「物価安定の目標」 と概ね整合的な水準で推移すると考えられる。\\nなお、2025年度にかけては、消費者物価（除く生鮮食品）の前年比に対して、政府によ\\nる施策の反動が押し上げ方向で、 このところの原油等の資源価格下落の影響などが押し下\\nげ方向で、それぞれ作用すると見込まれる。 \\n\\uf06c 前回の見通しと比べると、成長率については概ね不変である。消費者物価（除く生鮮食\\n品） の前年比については、2025年度が、このところの原油等の資源価格下落の影響など\\nから幾分下振れている。 \\n\\uf06c リスク要因をみると、海外の経済・物価動向、資源価格の動向、企業の賃金・価格設定\\n行動など、わが国経済・物価を巡る不確実性は引き続き高い。そのもとで、金融・為替\\n市場の動向やそのわが国経済・物価への影響を、十分注視する必要がある。とくに、こ\\nのところ、企業の賃金・価格設定行動が積極化するもとで、過去と比べると、為替の変\\n動が物価に影響を及ぼしやすくなっている面がある。 \\n\\uf06c リスクバランスをみると、経済の見通しについては概ね上下にバランスしている。物価\\nの見通しについては、2025年度は上振れリスクの方が大きい。', 'vector_content': [-0.009487506002187729, -0.03529682382941246, -0.020622890442609787, 0.03773771598935127, -0.06295245885848999, 0.025278789922595024, 0.015555871650576591, -0.08684948831796646, 0.03153593838214874, 0.01950383558869362, 0.0019378737779334188, 0.04958181455731392, -0.021664610132575035, 0.08597836643457413, -0.07706231623888016, 0.005359858274459839, -0.1053333505988121, -0.00346121983602643, 0.03895308077335358, 0.0828554630279541, 0.07551565766334534, 0.03594619035720825, 0.03364326059818268, 0.03881320357322693, -0.10884106904268265, -0.006398167926818132, 0.0006488009239546955, -0.022013744339346886, 0.03567211329936981, 0.0107074910774827, 0.0006118403398431838, -0.013395666144788265, 0.027695445343852043, -0.04187126085162163, 0.05325740948319435, 0.039226021617650986, 0.14149320125579834, 0.12687158584594727, 0.025459611788392067, -0.049610529094934464, 0.102735735476017, -0.06190960481762886, -0.0037144890520721674, 0.023608170449733734, 0.08245857059955597, 0.0703003779053688, -0.09266642481088638, 0.05931894853711128, 0.08778203278779984, -0.05876397341489792, -0.06427053362131119, 0.04515336826443672, -0.12275247275829315, 0.13539186120033264, 0.020273467525839806, 0.02793654054403305, 0.04232275113463402, 0.05217193812131882, -0.023175161331892014, 0.03492436930537224, -0.06755264103412628, 0.10831167548894882, -0.012209514155983925, 0.09945590794086456, 0.10773622989654541, -0.11272363364696503, 0.05624382942914963, 0.0652565285563469, -0.11765531450510025, 0.004325529560446739, -0.02357291430234909, -0.012556944042444229, -0.04503963887691498, 0.012432415038347244, -0.07656193524599075, -0.029814140871167183, 0.11919060349464417, -0.021730002015829086, 0.05079412832856178, 0.16130752861499786, 0.044436901807785034, 0.2146143913269043, 0.11314044147729874, -0.11189855635166168, 0.07496637105941772, 0.010780169628560543, 0.021517904475331306, 0.07954379916191101, -0.009305262006819248, -0.09468173235654831, 0.05870028957724571, 0.09117104113101959, -0.06682935357093811, -0.12351883202791214, 0.12079867720603943, -0.037806734442710876, -0.06689218431711197, 0.023561257869005203, 0.09464463591575623, 0.008715882897377014, -0.04800388216972351, 0.050697535276412964, -0.0010019169421866536, 0.005122173577547073, 0.10710448026657104, 0.08175688236951828, 0.10180547088384628, 0.03154958412051201, 0.04005621001124382, -0.02888386882841587, -0.05645819753408432, -0.06656835228204727, 0.021931009367108345, 0.013901742175221443, 0.09014979004859924, -0.03531501814723015, 0.015871457755565643, -0.005033751949667931, 0.0431995689868927, 0.08004532754421234, -0.06355634331703186, -0.09977661073207855, 0.08717019110918045, 0.06875129789113998, -0.011705711483955383, -0.022444764152169228, 0.01591694913804531, -0.06036407873034477, -0.02200464718043804, -0.023044662550091743, 0.0727493017911911, 0.03949213773012161, -0.0672677531838417, -0.0014514860231429338, -0.044310662895441055, 0.031538210809230804, -0.009170783683657646, -0.03404471278190613, -0.1133258044719696, -0.018802719190716743, 0.027133643627166748, -0.019747205078601837, 0.08909215033054352, 0.025178711861371994, 0.009662642143666744, 0.01915697380900383, -0.0404825396835804, 0.0076263970695436, -0.09263183921575546, 0.01671302318572998, 0.061147648841142654, -0.02626364678144455, -0.03127550706267357, 0.02839883416891098, -0.01870434731245041, -0.0728670060634613, 0.008752275258302689, -0.0025288884062319994, -1.7627158740651794e-05, 0.0050971535965800285, -0.0024490675423294306, 0.0066893738694489, 0.007172634359449148, -0.04040250554680824, -0.03319632261991501, 0.011392968706786633, 0.017183275893330574, 0.026356901973485947, -0.007146477699279785, 0.013454233296215534, -0.012443787418305874, 0.01937674544751644, 0.13469089567661285, -0.07187873870134354, -0.07136526703834534, 0.0010906225070357323, -0.003779081627726555, -0.08200395107269287, 0.07584972679615021, -0.049629583954811096, 0.10502729564905167, -0.06697036325931549, -0.14107470214366913, -0.0257828738540411, 0.029155105352401733, 0.012076456099748611, -0.026855017989873886, -0.04661700874567032, -0.11126168817281723, 0.10446712374687195, -0.007787886541336775, -0.06018894910812378, 0.048271700739860535, -0.11986599862575531, 0.014570444822311401, 0.006894008256494999, 0.060859423130750656, -0.038561295717954636, -0.034103844314813614, -0.021008344367146492, -0.02834651991724968, -0.05468010902404785, -0.04778610169887543, 0.08456021547317505, -0.09271769970655441, 0.02815716713666916, 0.040465619415044785, -0.02578088641166687, 0.07313454896211624, -0.047405119985342026, -0.15357506275177002, -0.006695558317005634, 0.0853622555732727, 0.007960179820656776, 0.0011213278630748391, -0.005186428315937519, -0.028604676946997643, -0.03998001292347908, -0.061968740075826645, -0.08402228355407715, -0.029966533184051514, 0.08110637962818146, 0.0389707088470459, 0.03934187442064285, 0.0060365223325788975, 0.04119346663355827, 0.02072637900710106, 0.01690249890089035, 0.06589595228433609, 0.037050459533929825, 0.031209547072649002, 0.08189491927623749, 0.06364050507545471, -0.011618143878877163, -0.10827130079269409, 0.06438198685646057, 0.024537300691008568, -0.10505686700344086, 0.011364324018359184, 0.01913195289671421, 0.05086463317275047, -0.04534698277711868, 0.00838366337120533, -0.013223940506577492, -0.06298714876174927, 0.06359045952558517, 0.059528201818466187, -0.09414950758218765, 0.009615589864552021, -0.18675005435943604, -0.04098506271839142, -0.030919549986720085, -0.0742783322930336, 0.010905158706009388, -0.0015807772288098931, 0.007956909947097301]}}\n",
      "{'_index': 'jp-bank-index', '_id': '6vs-dpMBygWmEmTvEzkY', '_score': 0.530411, '_source': {'content': '7 \\nる。 \\n第２に、今後の為替相場の変動や国際商品市況の動向、およびその輸入物価\\nや国内価格への波及は、上振れ・下振れ双方の要因となる。世界経済の先行き\\n等を巡る不確実性は高く、これが国際商品市況を大きく変動させる可能性があ\\nる。また、このところ、企業の賃金・価格設定行動が積極化するもとで、過去\\nと比べると、為替の変動が物価に影響を及ぼしやすくなっている面がある。 \\n４．金融政策運営 \\n以上の経済・物価情勢について、 「物価安定の目標」 のもとで、 ２つの 「柱」\\nによる点検を行い、先行きの金融政策運営の考え方を整理する4。 \\nまず、第１の柱、すなわち中心的な見通しについて点検すると、消費者物価\\nの前年比は、2024 年度に２％台半ばとなったあと、2025 年度および 2026\\n年度は、概ね２％程度で推移すると予想される。この間、消費者物価の基調的\\nな上昇率は、マクロ的な需給ギャップの改善に加え、 賃金と物価の好循環が引\\nき続き強まり中長期的な予想物価上昇率が上昇していくことから、徐々に高ま\\nっていくと予想され、見通し期間後半には「物価安定の目標」と概ね整合的な\\n水準で推移すると考えられる。 \\n次に、第２の柱、 すなわち金融政策運営の観点から重視すべきリスクについ\\nて点検する。わが国経済・物価を巡る不確実性は上下双方向で引き続き高く、\\n金融・為替市場の動向やそのわが国経済・物価への影響にも、十分注視する必\\n要がある。リスクバランスは、経済の見通しについては概ね上下にバランスし\\nている。物価の見通しについては、2025 年度は上振れリスクの方が大きい。 \\n金融面のリスクについてみると、株価や不動産価格の上昇ペースには引き続\\nき留意が必要であるものの、全体としてみれば、 資産市場や金融機関の与信活\\n動には過熱感はみられていない。 わが国の金融システムは、 全体として安定性\\nを維持している。また、 内外の実体経済や国際金融市場が調整する状況を想定\\nしても、わが国の金融機関が充実した資本基盤を備えていることなどを踏まえ\\nると、 全体として相応の頑健性を有している', 'vector_content': [-0.003562045516446233, 0.09206517785787582, 0.029044371098279953, -0.011165643110871315, 0.05041664466261864, 0.0276743546128273, 0.01918024569749832, -0.08877713233232498, 0.015960704535245895, 0.0904211550951004, -0.006096577737480402, -0.04630659148097038, -0.017947228625416756, 0.1200135350227356, 0.0276743546128273, -0.06356881558895111, -0.10412132740020752, 0.019728252664208412, 0.08822912722826004, 0.10631336271762848, -0.08110503852367401, 0.0263043362647295, -0.017125219106674194, 0.04548458009958267, -0.16001804172992706, 0.06713085621595383, 0.02315329574048519, 0.03383943438529968, -0.050142642110586166, -0.06658285111188889, -0.028496364131569862, -0.01554969884455204, 0.1523459404706955, -0.0553487092256546, 0.017673226073384285, 0.01726222038269043, 0.1282336413860321, 0.12220556288957596, 0.0701448991894722, -0.05041664466261864, 0.07178891450166702, -0.11562947928905487, -0.004726560320705175, -0.03616846352815628, 0.015960704535245895, 0.0498686358332634, 0.03356542810797691, 0.06987089663743973, 0.07343293726444244, -0.014042679220438004, -0.05397868901491165, 0.005069064907729626, -0.1523459404706955, 0.11727350205183029, 0.020824266597628593, 0.06932288408279419, 0.04630659148097038, -0.03836049139499664, -0.06658285111188889, 0.03616846352815628, -0.05123865604400635, 0.1079573780298233, -0.06439082324504852, 0.08439307659864426, 0.0931611880660057, -0.0424705445766449, -0.028359362855553627, 0.04466257244348526, -0.12604160606861115, -0.0006250704755075276, -0.024249309673905373, 0.06795287132263184, 0.021098269149661064, 0.023975307121872902, -0.11891751736402512, -0.039182502776384354, -0.01143964659422636, -0.004161428194493055, 0.028359362855553627, 0.14905790984630585, 0.09096916019916534, 0.03356542810797691, 0.0701448991894722, -0.14138580858707428, 0.030962396413087845, -0.04493657499551773, -0.006062327418476343, 0.04274454712867737, -0.017467724159359932, -0.1227535679936409, 0.057814739644527435, 0.08822912722826004, -0.03589445725083351, -0.03137340024113655, 0.11179342865943909, -0.105217345058918, -0.01808423176407814, -0.007226842455565929, 0.08987314999103546, 0.0378124825656414, -0.047676607966423035, -0.05397868901491165, -0.034935448318719864, -0.10466933995485306, -0.01808423176407814, 0.06384281814098358, 0.06713085621595383, 0.022194283083081245, 0.020687265321612358, -0.04712860286235809, 0.025345323607325554, -0.03671646863222122, 0.0226052887737751, -0.00777484942227602, 0.10740937292575836, -0.1079573780298233, 0.038634493947029114, -0.050142642110586166, 0.11946552991867065, 0.0452105775475502, -0.031510401517152786, -0.08165304362773895, 0.03479844331741333, 0.12494559586048126, 0.07178891450166702, 0.008288606069982052, -0.01781022734940052, -0.06685685366392136, 0.03288042172789574, 0.020687265321612358, 0.06247279793024063, -0.05589671432971954, 0.07069290429353714, 0.009110616520047188, -0.02740035019814968, 0.010686136782169342, 0.07617297023534775, -0.00571982329711318, -0.021372273564338684, -0.05123865604400635, -0.015275695361196995, 0.010823138058185577, 0.0822010487318039, 0.013426171615719795, 0.01918024569749832, -0.014453684911131859, 0.064664825797081, -0.06192479282617569, 0.024112308397889137, 0.019591251388192177, 0.07946101576089859, -0.0424705445766449, 0.030962396413087845, 0.041374530643224716, -0.009864126332104206, -0.03616846352815628, -0.03753848001360893, -0.017947228625416756, -0.06685685366392136, 0.0025687827728688717, 0.004555308260023594, 0.00537731871008873, -0.007192592136561871, 0.012946665287017822, -0.07069290429353714, 0.029044371098279953, 0.01664571277797222, 0.01835823431611061, 0.027263348922133446, 0.011987653560936451, -0.10028528422117233, 0.010412133298814297, -0.0008648235816508532, -0.08548909425735474, -0.007877600379288197, 0.028770368546247482, 0.023564301431179047, -0.03164740279316902, 0.03164740279316902, -0.08110503852367401, 0.0015669575659558177, -0.08384507149457932, -0.07178891450166702, -0.027537351474165916, 0.065486840903759, -0.07452895492315292, 0.023290297016501427, -0.005274567287415266, -0.10412132740020752, 0.05123865604400635, -0.048772621899843216, -0.02287929318845272, 0.02233128622174263, -0.02233128622174263, 0.02822236157953739, 0.05891075357794762, -0.03425043821334839, -0.0997372716665268, 0.08932514488697052, -0.009110616520047188, -0.07069290429353714, -0.10740937292575836, -0.048772621899843216, 0.12494559586048126, -0.11946552991867065, 0.06356881558895111, 0.011576647870242596, 0.0189062412828207, 0.11782150715589523, -0.09425720572471619, -0.08165304362773895, 0.034935448318719864, 0.1265896111726761, 0.03164740279316902, 0.06082877889275551, -0.016577212139964104, 0.038634493947029114, 0.01863223873078823, -0.04164853319525719, 0.0931611880660057, -0.019591251388192177, 0.040552519261837006, -0.015618199482560158, 0.040826521813869476, 0.08384507149457932, 0.03452444076538086, -0.007569346576929092, 0.0011045766295865178, 0.007363844197243452, 0.02205728180706501, -0.03425043821334839, 0.08658510446548462, 0.07178891450166702, 0.021920280531048775, -0.07617297023534775, 0.008733862079679966, 0.07836500555276871, -0.08110503852367401, 0.009521621279418468, 0.06521283090114594, 0.052608672529459, -0.022742290049791336, -0.004349805414676666, 0.05123865604400635, -0.003270916873589158, 0.01582370139658451, -0.0323324128985405, -0.10302531719207764, 0.041374530643224716, -0.20166657865047455, -0.03616846352815628, -0.06384281814098358, -0.10905339568853378, 0.0263043362647295, 0.006028077099472284, 0.01075463742017746]}}\n",
      "{'_index': 'jp-bank-index', '_id': '5Ps-dpMBygWmEmTvBjnF', '_score': 0.5190204, '_source': {'content': '。なお、2025 年度にかけては、消費\\n者物価（除く生鮮食品）の前年比に対して、政府による施策の反動が押し上げ\\n方向で、 このところの原油等の資源価格下落の影響などが押し下げ方向で、 そ\\nれぞれ作用すると見込まれる。 \\n                              \\n3 わが国の潜在成長率を、一定の手法で推計すると、足もとでは「０％台後半」と計算さ\\nれる。ただし、潜在成長率は、推計手法や今後蓄積されていくデータに左右されるうえ、\\nデジタル化の進展などに伴い生産性や労働供給のトレンドがどのように変化するか とい\\nった点を巡る不確実性も高いため、相当の幅をもってみる必要がある。', 'vector_content': [-0.00038453019806183875, -0.019754162058234215, -0.014456955716013908, 0.02637566812336445, 0.030017497017979622, -0.011973891407251358, 0.13154727220535278, -0.13861019909381866, -0.016995200887322426, -0.04701269790530205, 0.052309904247522354, -0.004938540514558554, 0.01688484102487564, 0.09534969925880432, -0.06577363610267639, -0.012084249407052994, -0.019974878057837486, -0.04171549156308174, 0.15626755356788635, 0.056503523141145706, -0.024058140814304352, 0.06709793210029602, 0.050102733075618744, 0.04348122701048851, -0.1368444710969925, -0.004717823583632708, 0.022182047367095947, -0.054517071694135666, -0.00565587030723691, 0.014236239716410637, 0.04723341390490532, 0.10373693704605103, 0.09843973070383072, 0.025934234261512756, 0.057827822864055634, 0.006262841634452343, 0.054296355694532394, 0.040170472115278244, -0.040611907839775085, -0.02041631191968918, 0.06444933265447617, -0.0679808035492897, -0.004331568721681833, -0.03928760439157486, 0.13243013620376587, 0.07636804133653641, 0.015229465439915657, 0.05539993941783905, 0.0971154272556305, 0.06533219665288925, 0.04171549156308174, 0.05186846852302551, -0.1055026724934578, 0.1138899177312851, 0.027479251846671104, 0.0878453180193901, 0.03310753405094147, 0.07901664823293686, 0.006621506530791521, -0.09755686670541763, -0.0741608738899231, 0.0496613010764122, -0.07636804133653641, 0.0626835972070694, 0.06047642603516579, -0.11653851717710495, -0.054517071694135666, 0.02957606315612793, -0.09755686670541763, 0.02085774578154087, -0.0148983895778656, 0.01710555888712406, -0.02935534529387951, 0.01964380219578743, -0.016995200887322426, -0.06047642603516579, 0.10064689815044403, 0.06930509954690933, 0.05694495886564255, 0.08961105346679688, 0.027258535847067833, 0.02240276336669922, -0.03200395032763481, -0.12183572351932526, 0.001179455895908177, -0.07283657044172287, -0.02803104557096958, -0.016333049163222313, 0.020195595920085907, -0.07018797099590302, 0.04921986535191536, 0.16597910225391388, 0.0003431457735132426, -0.05341348797082901, 0.14390741288661957, -0.02803104557096958, -0.07195370644330978, -0.00045177986612543464, -0.008497600443661213, 0.0038073663599789143, 0.0048833610489964485, 0.021519897505640984, -0.010428872890770435, -0.09446682780981064, -0.0019036831799894571, 0.0794580802321434, 0.08872818946838379, 0.11212418228387833, 0.032886818051338196, -0.03597685322165489, -0.008276883512735367, 0.05076488479971886, -0.0512063167989254, 0.0008000986999832094, 0.09005249291658401, -0.05539993941783905, 0.044584810733795166, -0.011091023683547974, 0.0993226021528244, -0.03354896605014801, 0.0679808035492897, -0.09755686670541763, 0.023175273090600967, 0.1712763011455536, -0.05341348797082901, -0.027699969708919525, -0.04171549156308174, -0.09623256325721741, -0.005048898980021477, 0.08696245402097702, 0.09049392491579056, -0.034652549773454666, 0.024058140814304352, -0.0048833610489964485, -0.0825481191277504, 0.01291193813085556, -0.03509398549795151, -0.0297967791557312, -0.06533219665288925, -0.030679646879434586, 0.019974878057837486, 0.027148177847266197, -0.02262348122894764, 0.08607959002256393, 0.008000987581908703, 0.05539993941783905, -0.013353371992707253, -0.010649589821696281, 0.008166524581611156, 0.13507872819900513, -0.010539231821894646, 0.015560540370643139, -0.027148177847266197, -0.0313417986035347, 0.10152976959943771, 0.058269258588552475, -0.0103185148909688, 0.004690234083682299, -0.03928760439157486, -0.019202368333935738, -0.026706743985414505, 0.00402808329090476, -0.004083262290805578, 0.02085774578154087, 0.07725091278553009, 0.030679646879434586, 0.04193620756268501, 0.03310753405094147, 0.04921986535191536, -0.048116281628608704, -0.018429860472679138, -0.0256031583994627, 0.01809878461062908, -0.03730115294456482, -0.008111345581710339, 0.0016553766326978803, 0.09358396381139755, -0.0313417986035347, -0.04215692728757858, -0.04348122701048851, -0.048778433352708817, -0.050102733075618744, -0.06091786175966263, -0.032886818051338196, -0.03421111777424812, -0.0018071194645017385, 0.0397290401160717, -0.005738639272749424, -0.12978152930736542, -0.005214436445385218, -0.0626835972070694, 0.014346597716212273, 0.03752187266945839, -0.052309904247522354, 0.04590911418199539, 0.07813377678394318, -0.06930509954690933, -0.09314252436161041, 0.09534969925880432, 0.03156251460313797, 0.07636804133653641, -0.03575613722205162, 0.0005138565320521593, 0.0710708349943161, -0.07062940299510956, -0.019974878057837486, -0.0741608738899231, -0.016443409025669098, 0.07239513844251633, 0.022954557090997696, 0.10682697594165802, 0.06356646120548248, 0.09534969925880432, 0.028693195432424545, 0.04193620756268501, -0.031121080741286278, 0.011477278545498848, -0.03774258866906166, -0.07857520878314972, -0.05915212631225586, -0.06621506810188293, 0.05297205224633217, 0.005545511841773987, -0.040170472115278244, 0.016443409025669098, -0.032886818051338196, 0.040611907839775085, -0.01887129433453083, -0.026706743985414505, 0.030017497017979622, -0.0027727559208869934, 0.02383742481470108, 0.03730115294456482, 0.054517071694135666, -0.0794580802321434, -0.024278856813907623, 0.05385491997003555, 0.012525683268904686, 0.008663137443363667, -0.0074491947889328, 0.06356646120548248, 0.06621506810188293, 0.0004086711269337684, 0.034873269498348236, -0.0010346104390919209, 0.06577363610267639, -0.06091786175966263, -0.0856381505727768, -0.031121080741286278, -0.2719232141971588, -0.1077098399400711, -0.05297205224633217, -0.014788031578063965, 0.15538468956947327, 0.16951057314872742, 0.0041108522564172745]}}\n",
      "{'_index': 'jp-bank-index', '_id': '3vs9dpMBygWmEmTv9DkU', '_score': 0.513173, '_source': {'content': '経済・物価情勢の展望 \\n2024 年 10 月 \\n公表時間 \\n11 月 1 日（金）14 時 00 分', 'vector_content': [-0.0978751927614212, -0.04787948355078697, -0.009192331694066525, -0.026981810107827187, -0.02341068722307682, 0.060047753155231476, 0.014813542366027832, -0.060047753155231476, 0.06322208046913147, 0.046292319893836975, 0.017326554283499718, -0.005257484968751669, 0.024865588173270226, 0.07724203914403915, -0.0703643262386322, 0.016731366515159607, -0.08517786860466003, -0.04100177064538002, 0.08147448301315308, 0.03624027222394943, 0.05264098197221756, 0.07248054444789886, 0.06533830612897873, 0.08993936330080032, -0.0994623526930809, -0.015078069642186165, 0.06163491681218147, -0.013953828252851963, 0.053170036524534225, 0.028833502903580666, 0.011176289059221745, 0.060047753155231476, -0.020633148029446602, -0.014152223244309425, 0.07089338451623917, 0.07777109742164612, 0.13861243426799774, 0.10951440036296844, -0.026585018262267113, 0.007109177764505148, 0.07988731563091278, 0.01851692795753479, -0.0016450306866317987, 0.02711407281458378, 0.03624027222394943, 0.030420666560530663, -0.10528196394443512, 0.05158286914229393, 0.07618393003940582, -0.02354295179247856, -0.0489375963807106, 0.09046842157840729, -0.1301475465297699, 0.13861243426799774, 0.06454472243785858, 0.011044024489820004, 0.03293367847800255, 0.048408541828393936, -0.01745881699025631, 0.02050088532269001, -0.058989640325307846, 0.0658673569560051, -0.023146159946918488, 0.08623597770929337, 0.09470085799694061, -0.1513097584247589, 0.013490905053913593, 0.0719514936208725, -0.0687771588563919, 0.027643127366900444, 0.0051582870073616505, -0.013490905053913593, -0.04073724150657654, 0.06348661333322525, -0.05237645283341408, -0.04020818695425987, 0.11850833892822266, -0.006844650022685528, 0.04999570548534393, 0.13385093212127686, 0.05184739828109741, 0.18622739613056183, 0.06824810802936554, -0.07724203914403915, 0.03134651482105255, -0.011573079973459244, 0.01666523516178131, 0.12221172451972961, 0.04549873620271683, -0.12644416093826294, 0.05158286914229393, 0.0075059691444039345, -0.07565487921237946, -0.13967053592205048, 0.08253259211778641, -0.05925416946411133, -0.05475720018148422, 0.017855608835816383, 0.031743306666612625, 0.027907656505703926, -0.03782743960618973, 0.0642801895737648, 0.016466839239001274, 0.0073075732216238976, 0.1375543177127838, 0.13967053592205048, 0.010845629498362541, 0.07777109742164612, 0.012895717285573483, -0.05766700580716133, -0.04364704340696335, -0.02923029288649559, -0.01944277435541153, -0.01957503892481327, 0.06375113874673843, -0.08676503598690033, 0.14919354021549225, 0.015011938288807869, 0.008332617580890656, -0.0005290550761856139, -0.04761495813727379, -0.08306165039539337, 0.1010495200753212, 0.14496108889579773, -0.04655684903264046, 0.02341068722307682, 0.05264098197221756, 0.0011325085069984198, 0.01838466338813305, -0.07248054444789886, 0.06348661333322525, 0.01957503892481327, -0.08517786860466003, 0.06322208046913147, -0.006910781841725111, 0.01772334612905979, -0.06348661333322525, 0.0032404623925685883, -0.043382517993450165, -0.018252400681376457, -0.006745452526956797, 0.02050088532269001, 0.10792724043130875, 0.07142243534326553, -0.019971828907728195, 0.08941031247377396, -0.014152223244309425, -0.032536886632442474, -0.08835219591856003, 0.0030585997737944126, 0.0505247600376606, -0.029759349301457405, -0.03624027222394943, 0.0642801895737648, -0.00163676415104419, -0.06322208046913147, -0.014615146443247795, 0.013358640484511852, -0.04020818695425987, -0.020104093477129936, 0.03835649415850639, 0.002661808393895626, 0.022088048979640007, -0.06375113874673843, 0.03412405401468277, -0.0025791435036808252, 0.04258893430233002, 0.03385952487587929, 0.015210333280265331, 0.004761495627462864, 0.0032404623925685883, 0.022749368101358414, 0.1470773071050644, -0.0566088929772377, -0.05078928917646408, -0.03571121767163277, 0.014747410081326962, -0.1253860592842102, 0.040472712367773056, -0.040472712367773056, 0.13967053592205048, 0.004893759731203318, -0.16506518423557281, -0.0078035625629127026, 0.07142243534326553, -0.012961849570274353, 0.032669153064489365, -0.002380747813731432, -0.03491763398051262, 0.09099747240543365, 0.014416751451790333, -0.010514969937503338, 0.06031227856874466, -0.13649621605873108, 0.05158286914229393, -0.058196060359478, -0.0642801895737648, -0.036504801362752914, -0.019178247079253197, -0.012300530448555946, -0.04258893430233002, -0.0321400947868824, 0.03544669225811958, 0.012432794086635113, -0.07671298831701279, -0.00727450754493475, 0.04999570548534393, -0.041266296058893204, 0.07406771183013916, -0.008927804417908192, -0.07142243534326553, -0.037562910467386246, -0.006745452526956797, 0.0428534634411335, -0.005488946568220854, 0.05581531301140785, -0.048408541828393936, -0.06666094064712524, 0.03412405401468277, 0.007175309583544731, -0.023146159946918488, 0.04999570548534393, 0.04549873620271683, 0.014019959606230259, 0.002132753375917673, -0.027643127366900444, 0.0642801895737648, -0.019178247079253197, 0.06824810802936554, 0.04602779075503349, 0.024072006344795227, 0.0841197595000267, 0.07248054444789886, 0.0034388580825179815, -0.1317347139120102, 0.0841197595000267, -0.048408541828393936, -0.03597574681043625, 0.010647233575582504, 0.03187556937336922, 0.05264098197221756, 0.0642801895737648, 0.01077949721366167, -0.009853650815784931, -0.08094542473554611, 0.09311369806528091, 0.05396362021565437, -0.09575896710157394, -0.05528625473380089, -0.18305306136608124, -0.010316574014723301, -0.0351821631193161, -0.02737860009074211, 0.01851692795753479, 0.025923699140548706, 0.004430836532264948]}}\n"
     ]
    }
   ],
   "source": [
    "search_text = \"2025年の物価状況と景気状況\"\n",
    "\n",
    "# Bedrockクライアントの作成\n",
    "br_client = boto3.client('bedrock-runtime', region_name='us-east-1')\n",
    "\n",
    "vector_for_query = embedding_func(search_text, br_client, dimensions)\n",
    "\n",
    "search_query = {\n",
    "    \"size\": 5,\n",
    "    \"query\": {\n",
    "        \"knn\": {\n",
    "            \"vector_content\": {\n",
    "                \"vector\": vector_for_query, \n",
    "                \"k\": 3\n",
    "            }\n",
    "        }\n",
    "    }\n",
    "}\n",
    "\n",
    "results = os_client.search(index=index_name, body=search_query)\n",
    "for hit in results[\"hits\"][\"hits\"]:\n",
    "    print(hit)"
   ]
  }
 ],
 "metadata": {
  "kernelspec": {
   "display_name": "study_rag",
   "language": "python",
   "name": "python3"
  },
  "language_info": {
   "codemirror_mode": {
    "name": "ipython",
    "version": 3
   },
   "file_extension": ".py",
   "mimetype": "text/x-python",
   "name": "python",
   "nbconvert_exporter": "python",
   "pygments_lexer": "ipython3",
   "version": "3.11.10"
  }
 },
 "nbformat": 4,
 "nbformat_minor": 2
}
